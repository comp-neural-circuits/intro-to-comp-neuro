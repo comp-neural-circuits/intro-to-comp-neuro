{
 "cells": [
  {
   "cell_type": "code",
   "execution_count": 2,
   "id": "1db50cc2",
   "metadata": {},
   "outputs": [],
   "source": [
    "import numpy as np\n",
    "import ipywidgets as widgets"
   ]
  },
  {
   "cell_type": "code",
   "execution_count": 3,
   "id": "318ce29f",
   "metadata": {
    "lines_to_next_cell": 0
   },
   "outputs": [
    {
     "data": {
      "application/vnd.jupyter.widget-view+json": {
       "model_id": "bff88eff6bf54488b0038b1c36455e31",
       "version_major": 2,
       "version_minor": 0
      },
      "text/plain": [
       "interactive(children=(IntSlider(value=100, continuous_update=False, description='rate_max_Hz', max=200, min=10…"
      ]
     },
     "metadata": {},
     "output_type": "display_data"
    }
   ],
   "source": [
    "def input_signal(rate_max_Hz=100, ipd_deg=90, f_Hz=3):\n",
    "    # We can't use values with units in the widgets, so we add the units first\n",
    "    rate_max = rate_max_Hz\n",
    "    ipd = (pi/180)*ipd_deg\n",
    "    f = f_Hz\n",
    "    \n",
    "    # These are the equations governing the ear neurons. Take a look at the\n",
    "    # Brian documentation for an explanation, but the only thing you might\n",
    "    # find non-obvious hopefully is the \": 1\" and \": Hz\" which tells Brian\n",
    "    # what the units of the variable being defined are (1 means dimensionless).\n",
    "    # Also note that the variable \"i\" is defined in Brian to be the index of\n",
    "    # the neuron, so for neuron 0 it will be 0 and for neuron 1 it will be 1,\n",
    "    # allowing us to make the input signal different for the two ears.\n",
    "    eqs_ears = '''\n",
    "    theta = 2*pi*f*t + i*ipd : 1\n",
    "    rate = rate_max*0.5*(1+sin(theta)) : Hz\n",
    "    '''\n",
    "    \n",
    "    # Create a group of 2 neurons with these equations, that fires a spike\n",
    "    # according to a Poisson process with the given time-varying rate. We\n",
    "    # use a dt of 1ms to speed up the simulation for interactivity, but later\n",
    "    # we'll use a better default of 0.1ms.\n",
    "    ears = NeuronGroup(2, eqs_ears, threshold='rand()<rate*dt', dt=1*ms)\n",
    "    \n",
    "    # Record the spikes and values of the rate as we run the simulation\n",
    "    M_spike = SpikeMonitor(ears)\n",
    "    M_state = StateMonitor(ears, 'rate', record=True)\n",
    "    \n",
    "    # Run the simulation for 1 second\n",
    "    run(1*second)\n",
    "\n",
    "    # Now plot the results. I won't explain in detail because it's mostly\n",
    "    # just fiddly matplotlib stuff to make it look nice.\n",
    "    trains = M_spike.spike_trains()\n",
    "    fig = figure(figsize=(4, 2), dpi=200)\n",
    "    gs = gridspec.GridSpec(2, 1, hspace=0, height_ratios=[1, .3])\n",
    "    ax = subplot(gs[0])\n",
    "    plot(M_state.t/ms, M_state.rate[0]/Hz, label='Left ear')\n",
    "    plot(M_state.t/ms, M_state.rate[1]/Hz, label='Right ear')\n",
    "    legend(loc='upper right')\n",
    "    gca().set_frame_on(False)\n",
    "    ylabel('Rate')\n",
    "    yticks([])\n",
    "    xticks([])\n",
    "    ylim(-10, 210)\n",
    "    subplot(gs[1], sharex=ax)\n",
    "    plot(trains[0]/ms, [0]*len(trains[0]), '|')\n",
    "    plot(trains[1]/ms, [1]*len(trains[1]), '|')\n",
    "    ylim(-1, 2)\n",
    "    gca().set_frame_on(False)\n",
    "    xlabel('Time')\n",
    "    ylabel('Spikes')\n",
    "    yticks([])\n",
    "    xticks([])\n",
    "    tight_layout()\n",
    "\n",
    "if widgets is not None:\n",
    "    widgets.interact(input_signal,\n",
    "        rate_max_Hz=widgets.IntSlider(min=10, max=200, value=100, step=10, continuous_update=False),\n",
    "        ipd_deg=widgets.IntSlider(min=0, max=360, value=90, step=10, continuous_update=False),\n",
    "        f_Hz=widgets.FloatSlider(min=0, max=10, value=3, step=.1, continuous_update=False),\n",
    "        );\n",
    "else:\n",
    "    input_signal()"
   ]
  },
  {
   "cell_type": "code",
   "execution_count": null,
   "id": "6e0f40c9",
   "metadata": {
    "lines_to_next_cell": 2
   },
   "outputs": [],
   "source": []
  }
 ],
 "metadata": {
  "jupytext": {
   "formats": "ipynb,py:light"
  },
  "kernelspec": {
   "display_name": "intro-to-comp-neuro",
   "language": "python",
   "name": "intro-to-comp-neuro"
  },
  "language_info": {
   "codemirror_mode": {
    "name": "ipython",
    "version": 3
   },
   "file_extension": ".py",
   "mimetype": "text/x-python",
   "name": "python",
   "nbconvert_exporter": "python",
   "pygments_lexer": "ipython3",
   "version": "3.9.0"
  }
 },
 "nbformat": 4,
 "nbformat_minor": 5
}
