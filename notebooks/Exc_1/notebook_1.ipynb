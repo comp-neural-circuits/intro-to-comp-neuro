{
 "cells": [
  {
   "cell_type": "markdown",
   "id": "72b9c8b8",
   "metadata": {},
   "source": [
    "# Section 0 - Intro"
   ]
  },
  {
   "cell_type": "code",
   "execution_count": 16,
   "id": "1dce04fb",
   "metadata": {},
   "outputs": [
    {
     "name": "stdout",
     "output_type": "stream",
     "text": [
      "5\n"
     ]
    }
   ],
   "source": [
    "# example cell\n",
    "a = 5\n",
    "print (a)"
   ]
  },
  {
   "cell_type": "markdown",
   "id": "0e69375c",
   "metadata": {},
   "source": [
    "[example solution](https://raw.githubusercontent.com/comp-neural-circuits/intro-to-comp-neuro/dev/notebooks/Exc_1/solutions/08f7239802b77de40d378b58fb9dbbfa.txt)"
   ]
  },
  {
   "cell_type": "markdown",
   "id": "4d2e5a50",
   "metadata": {},
   "source": [
    "# Section 1 - The leaky-integrate and fire (LIF) model and python basics"
   ]
  },
  {
   "cell_type": "markdown",
   "id": "59dd4ea8",
   "metadata": {},
   "source": [
    "## Section 1.1. \n",
    "\n",
    "In order to write programming scripts, we need a few basics: \n",
    "\n",
    "We will program our scripts in python, a very versatile and widely used programming language. \n",
    "To execute the written programs we need a <i>python interpreter</i>. Google colab allows us to run an instance in the browser, without the need to install anything locally on the computer. \n",
    "\n",
    "\n"
   ]
  },
  {
   "cell_type": "markdown",
   "id": "32fda41e",
   "metadata": {},
   "source": [
    "While learning the basics of python, we want to look at an example model taught in the lecture. The leaky integrate and fire (LIF) model. \n",
    "<div>\n",
    "<img src=\"https://github.com/comp-neural-circuits/intro-to-comp-neuro/raw/dev/notebooks/Exc_1/static/neuron_to_circuit.png\" width=\"750\"/>\n",
    "</div>\n",
    "\n",
    "From the lecture we know that we can describe the change of the membrane potential with the following equation:\n",
    "\n",
    "\\begin{equation}\n",
    "\\tau_m\\,\\frac{dV}{dt} = - V + E_{L} + R_m\\,I_e \\qquad (1)\n",
    "\\end{equation}\n",
    "\n",
    "where $V$ is the membrane potential, $\\tau_m$ is the membrane time constant, $E_{L}$ is the leak potential, $R_m$ is the membrane resistance, $I_e$ is the external current.\n",
    "\n",
    "We ignore the injected external current for now ($I_e = 0$) which means the equation simplifies to \n",
    "\\begin{equation}\n",
    "\\tau_m\\,\\frac{dV}{dt} = - V + E_{L} \\qquad (2)\n",
    "\\end{equation}\n",
    "\n",
    "\n",
    "\n",
    "in this equation we have three parameters that we need to define, let's do this: "
   ]
  },
  {
   "cell_type": "markdown",
   "id": "9c8292fd",
   "metadata": {},
   "source": [
    "#### Task 1 - Execute the cell below\n",
    "When executing a cell, the python interpreter will run the code we provide.\n",
    "\n",
    "When you select the cell and either press 'Run' at the top of the page or press 'shift+Enter' on the keyboard. \n",
    "\n",
    "try it out:"
   ]
  },
  {
   "cell_type": "code",
   "execution_count": 1,
   "id": "ee44d3e9",
   "metadata": {},
   "outputs": [
    {
     "name": "stdout",
     "output_type": "stream",
     "text": [
      "10 -50 -60\n"
     ]
    }
   ],
   "source": [
    "tau_m = 10 # in ms\n",
    "v = -50 # in mV\n",
    "el = -60 # in mV\n",
    "print (tau_m, v, el)"
   ]
  },
  {
   "cell_type": "markdown",
   "id": "73322994",
   "metadata": {},
   "source": [
    "[Solution 1 -  What happend](https://raw.githubusercontent.com/comp-neural-circuits/intro-to-comp-neuro/dev/notebooks/Exc_1/solutions/b9dafbadeda6b0afaf4eb56a6e030b88.txt)"
   ]
  },
  {
   "cell_type": "markdown",
   "id": "fc1bd6fb",
   "metadata": {},
   "source": [
    "#### Task 2 - Exectue the cell below\n",
    "\n",
    "Following equation (2), we can now calculate the change in the membrane that occurs for our defined voltage value. "
   ]
  },
  {
   "cell_type": "code",
   "execution_count": 12,
   "id": "2e679402",
   "metadata": {},
   "outputs": [
    {
     "name": "stdout",
     "output_type": "stream",
     "text": [
      "-1.0\n"
     ]
    }
   ],
   "source": [
    "tau_m = 10 # in ms\n",
    "v = -50 # in mV\n",
    "el = -60 # in mV\n",
    "dv_dt = (-v + el)/tau_m\n",
    "print (dv_dt)"
   ]
  },
  {
   "cell_type": "markdown",
   "id": "82e87df1",
   "metadata": {},
   "source": [
    "[Solution 2 - What happend](https://raw.githubusercontent.com/comp-neural-circuits/intro-to-comp-neuro/dev/notebooks/Exc_1/solutions/0b6d6a1ac53626e007cfe2ae7ca52865.txt)"
   ]
  },
  {
   "cell_type": "markdown",
   "id": "fcefa01d",
   "metadata": {},
   "source": [
    "#### Task 3 - Calculate the voltage change for multiple time steps\n",
    "\n",
    "After applying the change in voltage as we did above for one time step (adding -0.5mV/ms * 1ms to -50mV), we can ask again what the change is - given the new voltage value, then apply this again and so on"
   ]
  },
  {
   "cell_type": "code",
   "execution_count": 3,
   "id": "33aaacce",
   "metadata": {},
   "outputs": [
    {
     "name": "stdout",
     "output_type": "stream",
     "text": [
      "dv/dt -1.0\n",
      "v -50.1\n",
      "dv/dt -0.9899999999999999\n",
      "v -50.199\n"
     ]
    }
   ],
   "source": [
    "tau_m = 10 # in ms\n",
    "v = -50 # in mV\n",
    "el = -60 # in mV\n",
    "dt = 0.1 # in ms\n",
    "dv_dt = (-v + el)/tau_m\n",
    "print ('dv/dt', dv_dt)\n",
    "v = v + dv_dt * dt\n",
    "print ('v', v)\n",
    "dv_dt = (-v + el)/tau_m\n",
    "print ('dv/dt', dv_dt)\n",
    "v = v + dv_dt * dt\n",
    "print ('v', v)"
   ]
  },
  {
   "cell_type": "markdown",
   "id": "22581d24",
   "metadata": {},
   "source": [
    "[Solution 3 - What happend](https://raw.githubusercontent.com/comp-neural-circuits/intro-to-comp-neuro/dev/notebooks/Exc_1/solutions/c9bbcb4f8f0d6e08edf5282d0deea52d.txt)"
   ]
  },
  {
   "cell_type": "markdown",
   "id": "8a0ffd05",
   "metadata": {},
   "source": [
    "## Loops\n",
    "More specifically, the for-loop.\n",
    "Loops allow us to execute the same code multiple times, or even to let programs run indefinetly. We can re-write the above code with a for-loop."
   ]
  },
  {
   "cell_type": "markdown",
   "id": "7e4e65ff",
   "metadata": {},
   "source": [
    "#### Task 4 - Change the number of repetitions\n",
    "\n",
    "Initially we execute the code block from above (2 times). You can change how often it will be repeated by changing the number in the 'range' function. Try it out."
   ]
  },
  {
   "cell_type": "code",
   "execution_count": 4,
   "id": "df9517db",
   "metadata": {},
   "outputs": [
    {
     "name": "stdout",
     "output_type": "stream",
     "text": [
      "dv/dt -1.0\n",
      "v -50.1\n",
      "dv/dt -0.9899999999999999\n",
      "v -50.199\n"
     ]
    }
   ],
   "source": [
    "tau_m = 10 # in ms\n",
    "v = -50 # in mV\n",
    "el = -60 # in mV\n",
    "dt = 0.1 # in ms\n",
    "\n",
    "for ii in range(2):\n",
    "    dv_dt = (-v + el)/tau_m\n",
    "    print ('dv/dt', dv_dt)\n",
    "    v = v + dv_dt * dt\n",
    "    print ('v', v)"
   ]
  },
  {
   "cell_type": "markdown",
   "id": "fe1c6f19",
   "metadata": {},
   "source": [
    "[Solution 4 - What happend](https://raw.githubusercontent.com/comp-neural-circuits/intro-to-comp-neuro/dev/notebooks/Exc_1/solutions/dc08a6dbb265e55110b411909991e3ab.txt)"
   ]
  },
  {
   "cell_type": "markdown",
   "id": "d6313ef0",
   "metadata": {},
   "source": [
    "#### More information on the for-loop\n",
    "\n",
    "You just executed a for-loop. The syntax of a for-loop is the following:\n",
    "```python\n",
    "    for iteration_variable in values_to_iterate_through:\n",
    "        # do something\n",
    "```\n",
    "\n",
    "In our case the iteration variable is ii and the values_to_iterate_through are provided by the function range() where we can provide an input paramter.\n",
    "\n",
    "It is important to note that we see an indentation after we defined our for-loop (and ended the line with a colon)\n",
    "\n",
    "Everything that is indented will be executed within the loop. \n",
    "You can try it out with the example above by removing the indent for the last line. v will then be printed only when the loop is done.\n",
    "\n",
    "Ususally, people use four or two spaces as the indentation level (or pressing TAB).\n",
    "\n",
    "You can also access the iteration variable in the for-loop. you can try out the example below.   "
   ]
  },
  {
   "cell_type": "markdown",
   "id": "4699ccc1",
   "metadata": {},
   "source": [
    "#### Task 5 - Answer the following questions\n",
    "\n",
    "0) execute the cell\n",
    "\n",
    "1) what is the starting/ending value for the iteration variabel ii, does it make sense to you?\n",
    "\n",
    "2) you will see that the iteration variable takes on integer values, how can you get floating point steps instead? - try it out"
   ]
  },
  {
   "cell_type": "code",
   "execution_count": 4,
   "id": "5d441009",
   "metadata": {},
   "outputs": [
    {
     "name": "stdout",
     "output_type": "stream",
     "text": [
      "0\n",
      "1\n",
      "2\n",
      "3\n"
     ]
    }
   ],
   "source": [
    "for ii in range(4):\n",
    "    print (ii)"
   ]
  },
  {
   "cell_type": "markdown",
   "id": "59398faf",
   "metadata": {},
   "source": [
    "[solution 5](https://raw.githubusercontent.com/comp-neural-circuits/intro-to-comp-neuro/dev/notebooks/Exc_1/solutions/d9983871b5db5f9605dc1191890502b8.txt)"
   ]
  },
  {
   "cell_type": "markdown",
   "id": "c89da0a7",
   "metadata": {},
   "source": [
    "#### We now use the for loop to run our code from above many times and look at the final value of v"
   ]
  },
  {
   "cell_type": "markdown",
   "id": "3d957724",
   "metadata": {},
   "source": [
    "#### Task  6 - Change the starting value of v\n",
    "\n",
    "When executing the cell below, you can now change the starting value of v. \n",
    "\n",
    "However, you should see that (given we have enough repetitions), your final v should always be very close to the same value. Can you explain why this is correct?"
   ]
  },
  {
   "cell_type": "code",
   "execution_count": 11,
   "id": "65db3688",
   "metadata": {},
   "outputs": [
    {
     "name": "stdout",
     "output_type": "stream",
     "text": [
      "final v -59.934295169575854\n"
     ]
    }
   ],
   "source": [
    "tau_m = 10 # in ms\n",
    "el = -60 # in mV\n",
    "dt = 0.1 # in ms\n",
    "\n",
    "v = -50 # in mV\n",
    "\n",
    "for ii in range(500):\n",
    "    dv_dt = (-v + el)/tau_m\n",
    "    v = v + dv_dt * dt\n",
    "\n",
    "print ('final v', v)"
   ]
  },
  {
   "cell_type": "markdown",
   "id": "c7b5834f",
   "metadata": {},
   "source": [
    "[Solution 6](https://raw.githubusercontent.com/comp-neural-circuits/intro-to-comp-neuro/dev/notebooks/Exc_1/solutions/e9301038094966b69fb0b4d6c8c80217.txt)"
   ]
  },
  {
   "cell_type": "markdown",
   "id": "a7b689f1",
   "metadata": {},
   "source": [
    "## Lists\n",
    "\n",
    "Until now we defined how v should evolve over time and we can see what the final value of v is, or print intermediate values of v. Ultimately, we want to save the values of v between the beginning and the end, in order to access them later on. This leads us to another variable type.\n",
    "\n",
    "Lists can store multiple varibales of the same, or even of different types. A list is defined like this\n",
    "```python\n",
    "    example_list = [1,2,3]\n",
    "    empty_list = []\n",
    "```\n",
    "We can append elements to this list with \n",
    "```python\n",
    "    empty_list.append(1)\n",
    "```"
   ]
  },
  {
   "cell_type": "markdown",
   "id": "4a8dfe08",
   "metadata": {},
   "source": [
    "#### Task 7 - save all intermediate values of v\n",
    "\n",
    "can you re-write the code from above, so that we do not only print the final v but a list of all v's after the loop has finsihed?"
   ]
  },
  {
   "cell_type": "code",
   "execution_count": 6,
   "id": "a963130b",
   "metadata": {},
   "outputs": [],
   "source": [
    "tau_m = 10 # in ms\n",
    "v = -50 # in mV\n",
    "el = -60 # in mV\n",
    "dt = 0.1 # in ms\n",
    "v_list = []\n",
    "\n",
    "# continue here with your code"
   ]
  },
  {
   "cell_type": "markdown",
   "id": "de7b9fff",
   "metadata": {},
   "source": [
    "[Solution 7](https://raw.githubusercontent.com/comp-neural-circuits/intro-to-comp-neuro/dev/notebooks/Exc_1/solutions/f83a04de6a1c5742e9f506b41c43f321.txt)"
   ]
  },
  {
   "cell_type": "markdown",
   "id": "51dba691",
   "metadata": {},
   "source": [
    "#### Great ! \n",
    "We now have run a simulation of the time evolution of the membrane voltage and saved the values of v. However, we would also like to have the corresponding values of the time that passed for every voltage value. \n",
    "\n",
    "#### Task 8 - save the time values as well\n",
    "\n",
    "Can you re-write the code above, to not only save and print the voltage values, but also do the same for the time steps? "
   ]
  },
  {
   "cell_type": "code",
   "execution_count": 9,
   "id": "88965762",
   "metadata": {},
   "outputs": [
    {
     "data": {
      "text/plain": [
       "' \\n    Put your code here\\n'"
      ]
     },
     "execution_count": 9,
     "metadata": {},
     "output_type": "execute_result"
    }
   ],
   "source": [
    "''' \n",
    "    Put your code here\n",
    "'''"
   ]
  },
  {
   "cell_type": "markdown",
   "id": "cd4d9c65",
   "metadata": {},
   "source": [
    "[Solution 8](https://raw.githubusercontent.com/comp-neural-circuits/intro-to-comp-neuro/dev/notebooks/Exc_1/solutions/55fb97641ed9a75a13eed8e5a19f663a.txt)"
   ]
  },
  {
   "cell_type": "markdown",
   "id": "7f22f642",
   "metadata": {},
   "source": [
    "## Plots\n",
    "\n",
    "To get a better understanding of how the voltage evolves, we want to visualize the data.\n",
    "\n",
    "To visualize with python, we make use of a library. Libraries provide pre-written functions, so we don't have to write them from scratch. To import a library we have to add the following line (usually always at the beginning of the code)\n",
    "```python\n",
    "    import matplotlib.pyplot as plt\n",
    "```\n",
    "with this line we can import the library matplotlib.pyplot and we can call it from then on with the the name plt \n",
    "Once imported, we can use this command in each cell of the notebook."
   ]
  },
  {
   "cell_type": "markdown",
   "id": "6a4e1700",
   "metadata": {},
   "source": [
    "#### Task 9 - Play around\n",
    "\n",
    "In the cell below you can play around with plotting. \n",
    "here is the original code of the cell in case you want to reset:\n",
    "```python\n",
    "import matplotlib.pyplot as plt\n",
    "\n",
    "plt.figure()\n",
    "plt.title('Example Plot')\n",
    "x = [0,1]\n",
    "y = [1,2]\n",
    "plt.plot(x,y,color='red', linewidth=2.5)\n",
    "plt.xlabel('X-axis')\n",
    "plt.ylabel('Y-axis')\n",
    "plt.show()\n",
    "```\n",
    "<div>\n",
    "<img src=\"https://github.com/comp-neural-circuits/intro-to-comp-neuro/raw/dev/notebooks/Exc_1/static/simple_line_plot.png\" width=\"350\"/>\n",
    "</div>\n"
   ]
  },
  {
   "cell_type": "code",
   "execution_count": 4,
   "id": "cfb192f3",
   "metadata": {},
   "outputs": [
    {
     "data": {
      "image/png": "[encoded data removed]",
      "text/plain": [
       "<Figure size 800x600 with 1 Axes>"
      ]
     },
     "metadata": {},
     "output_type": "display_data"
    }
   ],
   "source": [
    "import matplotlib.pyplot as plt\n",
    "plt.style.use(\"https://github.com/comp-neural-circuits/intro-to-comp-neuro/raw/dev/plots_style.txt\")\n",
    "\n",
    "plt.figure()\n",
    "plt.title('Example Plot')\n",
    "x = [0,1]\n",
    "y = [1,2]\n",
    "plt.plot(x,y,color='red', linewidth=2.5)\n",
    "plt.xlabel('X-axis')\n",
    "plt.ylabel('Y-axis')\n",
    "plt.show()"
   ]
  },
  {
   "cell_type": "markdown",
   "id": "fe204f69",
   "metadata": {},
   "source": [
    "[Solution 9 - What happend](https://raw.githubusercontent.com/comp-neural-circuits/intro-to-comp-neuro/dev/notebooks/Exc_1/solutions/482fdd347c57468ece99c67755a3fcd8.txt)"
   ]
  },
  {
   "cell_type": "markdown",
   "id": "02d55600",
   "metadata": {},
   "source": [
    "#### Task 10 - Plot the time evolution of the membrane voltage\n",
    "\n",
    "Try to combine the code where we calculate and save the v and t values and the plotting code to create a figure that should look roughly like this:\n",
    "\n",
    "(with a starting value of v = -55, a timestep dt=0.1 and iterating over range(500) )\n",
    "\n",
    "<div>\n",
    "<img src=\"https://github.com/comp-neural-circuits/intro-to-comp-neuro/raw/dev/notebooks/Exc_1/static/membrane_voltage_decay.png\" width=\"350\"/>\n",
    "</div>\n"
   ]
  },
  {
   "cell_type": "code",
   "execution_count": 8,
   "id": "0004d5d7",
   "metadata": {},
   "outputs": [
    {
     "data": {
      "text/plain": [
       "' \\n    Put your code here\\n'"
      ]
     },
     "execution_count": 8,
     "metadata": {},
     "output_type": "execute_result"
    }
   ],
   "source": [
    "''' \n",
    "    Put your code here\n",
    "'''"
   ]
  },
  {
   "cell_type": "markdown",
   "id": "9a498666",
   "metadata": {},
   "source": [
    "[Solution 10](https://raw.githubusercontent.com/comp-neural-circuits/intro-to-comp-neuro/dev/notebooks/Exc_1/solutions/c8b80ebd8d5a135736ec6c44669639a8.txt)"
   ]
  },
  {
   "cell_type": "markdown",
   "id": "98c8ba2e",
   "metadata": {},
   "source": [
    "#### In context\n",
    "\n",
    "Make sure that you understand what the plot shows us.\n",
    "\n",
    "We can see the development of the membrane potential over time for our neuron model. When we set it to a certain value (for example -55 mV) it will constantly change until it reaches the resting potential 'el'.\n",
    "\n",
    "We now want to further explore the behavior with interactive tools, but for that we first need to introduce another programming concept: **Functions**\n"
   ]
  },
  {
   "cell_type": "markdown",
   "id": "907041fb",
   "metadata": {},
   "source": [
    "## Functions\n",
    "\n",
    "A function allows us to structure our code more efficiently. A function can take arguments, execute code when it's called and return values once its finished. The general structure looks like this\n",
    "\n",
    "```python\n",
    "def function_name (parameter):\n",
    "    \n",
    "    # execute code (we can use the variable 'parameter' here)\n",
    "    \n",
    "    return values\n",
    "```\n",
    "\n",
    "There are many important apsects about functions behind this simple introduction, but we will cover these when they become relevant. Note, however, that we again have the indent behind our first line (that closes with a colon) to indicate which lines belong to the function. For now, we will start by re-writing the code we already have for the time evolution of the membrane potential into a function\n",
    "\n",
    "```python\n",
    "def voltage_evolution(v_start):\n",
    "    tau_m = 10 # in ms\n",
    "    el = -60 # in mV\n",
    "    dt = 0.1 # in ms\n",
    "    v = v_start\n",
    "    \n",
    "    v_list = []\n",
    "    t_list = []    \n",
    "\n",
    "    for ii in range(500):\n",
    "        dv_dt = (-v + el)/tau_m\n",
    "        v = v + dv_dt * dt\n",
    "        v_list.append(v) \n",
    "        t_list.append(ii*dt) # we multiply our time step with our iteration variable to get the time\n",
    "        \n",
    "    return v_list, t_list\n",
    "```\n",
    "\n",
    "All we did now is taking the code from above and putting it into the structure of a function. \n",
    "We name the fucntion 'voltage_evolution' and we define an argument 'v_start'. This argument is used within the function to set our parameter of v. \n",
    "In the end, we then pass v_list and t_list.\n",
    "\n",
    "Now we will use this function, to see how different starting conditions of the membrane potential lead to different voltage traces."
   ]
  },
  {
   "cell_type": "code",
   "execution_count": 15,
   "id": "ee0aebd6",
   "metadata": {},
   "outputs": [
    {
     "data": {
      "image/png": "[encoded data removed]",
      "text/plain": [
       "<Figure size 800x600 with 1 Axes>"
      ]
     },
     "metadata": {},
     "output_type": "display_data"
    }
   ],
   "source": [
    "def voltage_evolution(v_start):\n",
    "    tau_m = 10 # in ms\n",
    "    el = -60 # in mV\n",
    "    dt = 0.1 # in ms\n",
    "    v = v_start\n",
    "    \n",
    "    v_list = []\n",
    "    t_list = []    \n",
    "\n",
    "    for ii in range(500):\n",
    "        dv_dt = (-v + el)/tau_m\n",
    "        v = v + dv_dt * dt\n",
    "        v_list.append(v) \n",
    "        t_list.append(ii*dt) # we multiply our time step with our iteration variable to get the time\n",
    "        \n",
    "    return v_list, t_list\n",
    "\n",
    "\n",
    "\n",
    "plt.figure()\n",
    "plt.title('Time evolution of membrane voltage')\n",
    "\n",
    "v_list_1, t_list_1 = voltage_evolution(v_start=-10)\n",
    "plt.plot(t_list_1,v_list_1,linewidth=2.5, label='v_start = -10')\n",
    "\n",
    "v_list_2, t_list_2 = voltage_evolution(v_start=-40)\n",
    "plt.plot(t_list_2,v_list_2,linewidth=2.5, label='v_start = -40')\n",
    "\n",
    "plt.xlabel('Time in ms')\n",
    "plt.ylabel('Voltage in mV')\n",
    "plt.legend()\n",
    "plt.show()"
   ]
  },
  {
   "cell_type": "markdown",
   "id": "cc58c456",
   "metadata": {},
   "source": [
    "####  What happend\n",
    "\n",
    "We now took the code we already wrote earlier and changed it slightly. First we defined the function \"voltage_evolution\" \n",
    "It is important to note that when executing a cell where we define a function, this function is not executed but only defined. To execute it we have to call it first. \n",
    "\n",
    "This is what we do just before we plot t_list_1 & v_list_1 and again before we plot t_list_2 & v_list_2\n",
    "Our function is then executed with the value for v_start that we specify and once it finishes it returns the created lists. We can then use these lists to plot the results.\n"
   ]
  },
  {
   "cell_type": "markdown",
   "id": "8093658c",
   "metadata": {},
   "source": [
    "#### Task 11 - change the code so that you can vary other parameters\n",
    "\n",
    "change the function (and the parts where the function is called), so that you can change other parameters of the function (for exmaple el) to see how they effect the changes of the membrane voltage. \n",
    "\n",
    "(when looking at other parameters, you should also make sure to adjust the labels of the plot)\n"
   ]
  },
  {
   "cell_type": "code",
   "execution_count": 16,
   "id": "39b3db21",
   "metadata": {},
   "outputs": [
    {
     "data": {
      "image/png": "[encoded data removed]",
      "text/plain": [
       "<Figure size 800x600 with 1 Axes>"
      ]
     },
     "metadata": {},
     "output_type": "display_data"
    }
   ],
   "source": [
    "#Change the code in this cell. You can always copy the code from above in case something breaks that you cannot recover\n",
    "\n",
    "def voltage_evolution(v_start):\n",
    "    tau_m = 10 # in ms\n",
    "    el = -60 # in mV\n",
    "    dt = 0.1 # in ms\n",
    "    v = v_start\n",
    "    \n",
    "    v_list = []\n",
    "    t_list = []    \n",
    "\n",
    "    for ii in range(500):\n",
    "        dv_dt = (-v + el)/tau_m\n",
    "        v = v + dv_dt * dt\n",
    "        v_list.append(v) \n",
    "        t_list.append(ii*dt) # we multiply our time step with our iteration variable to get the time\n",
    "        \n",
    "    return v_list, t_list\n",
    "\n",
    "\n",
    "\n",
    "plt.figure()\n",
    "plt.title('Time evolution of membrane voltage')\n",
    "\n",
    "v_list_1, t_list_1 = voltage_evolution(v_start=-10)\n",
    "plt.plot(t_list_1,v_list_1,linewidth=2.5, label='v_start = -10')\n",
    "\n",
    "v_list_2, t_list_2 = voltage_evolution(v_start=-40)\n",
    "plt.plot(t_list_2,v_list_2,linewidth=2.5, label='v_start = -40')\n",
    "\n",
    "plt.xlabel('Time in ms')\n",
    "plt.ylabel('Voltage in mV')\n",
    "plt.legend()\n",
    "plt.show()"
   ]
  },
  {
   "cell_type": "markdown",
   "id": "7fef25b7",
   "metadata": {},
   "source": [
    "[Solution 11 - What happend](https://raw.githubusercontent.com/comp-neural-circuits/intro-to-comp-neuro/dev/notebooks/Exc_1/solutions/9682fd56e1dcf3f493091bee5e6503e8.txt)"
   ]
  },
  {
   "cell_type": "markdown",
   "id": "5e72b910",
   "metadata": {},
   "source": [
    "#### Task 12 - Explore paramters\n",
    "\n",
    "We now use another library called ipywidgets that allows us to build interactive plots. We have to import the interactive function and can then call our defined function and define the paramters we want to vary, we do so by specifying the range for each parameter in the following fashion:\n",
    "\n",
    "```python\n",
    "chosen_parameter = (start_value, end_value, step_size)\n",
    "````\n",
    "\n",
    "To make it more convenient, we now combine the simulation and the plotting part into one function.\n",
    "\n",
    "You can try it out by executing the cell below and explore how the different parameters influence how the membrane voltage evolves."
   ]
  },
  {
   "cell_type": "code",
   "execution_count": 25,
   "id": "f445c1d3",
   "metadata": {},
   "outputs": [
    {
     "data": {
      "application/vnd.jupyter.widget-view+json": {
       "model_id": "d8be486fc2f243528bfacedd9a88c648",
       "version_major": 2,
       "version_minor": 0
      },
      "text/plain": [
       "interactive(children=(IntSlider(value=-60, description='el', max=60, min=-180, step=2), IntSlider(value=10, de…"
      ]
     },
     "metadata": {},
     "output_type": "display_data"
    },
    {
     "data": {
      "text/plain": [
       "<function __main__.run_simulation_and_show_plot(el=-60, tau_m=10, v=-50)>"
      ]
     },
     "execution_count": 25,
     "metadata": {},
     "output_type": "execute_result"
    }
   ],
   "source": [
    "from ipywidgets import interact\n",
    "\n",
    "def voltage_evolution(el, tau_m, v):\n",
    "    dt = 1 # in ms\n",
    "\n",
    "    v_list = []\n",
    "    t_list = []    \n",
    "\n",
    "    for ii in range(100):\n",
    "        dv_dt = (-v + el)/tau_m\n",
    "        v = v + dv_dt * dt\n",
    "        v_list.append(v) \n",
    "        t_list.append(ii*dt) # we multiply our time step with our iteration variable to get the time\n",
    "\n",
    "    \n",
    "    return v_list, t_list\n",
    "\n",
    "\n",
    "def run_simulation_and_show_plot(el=-60, tau_m=10, v=-50):\n",
    "        \n",
    "    v_list, t_list = voltage_evolution(el, tau_m, v)\n",
    "\n",
    "    plt.figure()\n",
    "    plt.title('Time evolution of membrane voltage')\n",
    "\n",
    "    plt.plot(t_list,v_list,linewidth=2.5)\n",
    "\n",
    "    plt.xlabel('Time in ms')\n",
    "    plt.ylabel('Voltage in mV')\n",
    "    \n",
    "    plt.ylim([-185,65])\n",
    "    plt.show()\n",
    "    \n",
    "interact(run_simulation_and_show_plot, el=(-180,60,2), tau_m=(1,30,1), v=(-180,60,2))\n"
   ]
  },
  {
   "cell_type": "markdown",
   "id": "a0e3873f",
   "metadata": {},
   "source": [
    "### Input currents\n",
    "\n",
    "Now we have seen how the membrane voltage evolves over time when we initialize it at a certain value and do not interfere with it otherwise. Now we want to come back to equation (1)\n",
    "\n",
    "\\begin{equation}\n",
    "\\tau_m\\,\\frac{dV}{dt} = - V + E_{L} + R_m\\,I_e \\qquad (1)\n",
    "\\end{equation}\n",
    "\n",
    "Therefore we now want to add the possibility to inject a current into the cell, to see how this influences the dynamics. \n",
    "\n",
    "We have to modify how the voltage changes in each time step\n",
    "```python\n",
    "dv_dt = (-v + el + r_m * I_e)/tau_m\n",
    "```\n",
    "\n",
    "and we need to define the new varibles as well. \n",
    "A rough estimate for a cell resistance is \n",
    "```python\n",
    "r_m = 100e6 # Ohm\n",
    "```\n",
    "If we then apply currents they should be on the magnitude of\n",
    "\n",
    "```python\n",
    "I_e = 10e-8 # milli ampere\n",
    "```\n"
   ]
  },
  {
   "cell_type": "markdown",
   "id": "6fded169",
   "metadata": {},
   "source": [
    "### Task 13 - rewrite the function to allow an external input current\n",
    "\n",
    "Take the function from above (you can use the interactive version if you like) and modify it so that you can change the input current I_e.\n",
    "You can set the other parameters to fixed values again (either as defaults in the argument of the function or define them in the function)"
   ]
  },
  {
   "cell_type": "code",
   "execution_count": 13,
   "id": "9dd1143b",
   "metadata": {},
   "outputs": [
    {
     "data": {
      "text/plain": [
       "' \\n    Put your code here\\n'"
      ]
     },
     "execution_count": 13,
     "metadata": {},
     "output_type": "execute_result"
    }
   ],
   "source": [
    "''' \n",
    "    Put your code here\n",
    "'''"
   ]
  },
  {
   "cell_type": "markdown",
   "id": "ca25f4cd",
   "metadata": {},
   "source": [
    "[Solution  13](https://raw.githubusercontent.com/comp-neural-circuits/intro-to-comp-neuro/dev/notebooks/Exc_1/solutions/93653f83ea6ec8362d601a619efa56b3.txt)"
   ]
  },
  {
   "cell_type": "markdown",
   "id": "6ccf2ca2",
   "metadata": {},
   "source": [
    "# Spikes \n",
    "\n",
    "So far, we modeled the membrane voltage of a cell and we are able to provide some input in form of a current. However, our cell cannot spike yet. Now we want to add a spiking condition. \n",
    "\n",
    "Neurons spike when they reach a certain threshold (how the spiking happens exactly is what we will look at later in the semester, it does not matter for our simple neuron model)\n",
    "\n",
    "Now we add a condition to our equation (1)\n",
    "\n",
    "\\begin{align}\n",
    "\\tau_m\\,\\frac{dV}{dt} &= - V + E_{L} + R_m\\,I_e &\\text{if }\\quad V(t) \\leq V_{th} \\\\ \n",
    "\\\\\n",
    "V(t) &= V_{reset} &\\text{otherwise}\n",
    "\\end{align}\n",
    "\n",
    "In words: The membrane voltage now follows the equation we are already used to as long as it is below the threshold value v_th. If it is above, we call this a spike and reset the membrane voltage to a value below the threshold. This mimics the undershoot that we can observe in real neurons (again, more on that later).\n",
    "\n",
    "We now need to define the two new variables. Based off on data we can set them roughly to:\n",
    "\n",
    "```python\n",
    "v_th = -50 # mV\n",
    "v_reset = -70 # mV\n",
    "```\n",
    "\n",
    "in our code, we can now add this behaviour with the extremlz versatile **if condition**\n",
    "\n",
    "```python\n",
    "if something_is_true:\n",
    "    # do this\n",
    "else:\n",
    "    # do this otherwise\n",
    "```\n",
    "\n",
    "the if condition can be used to execute code only if a certain condition is met, like in our case if v is less or equal to the threshold.\n",
    "\n",
    "Again, notice the indent that we use to show which part to execute under which condition. "
   ]
  },
  {
   "cell_type": "markdown",
   "id": "ad565bfa",
   "metadata": {},
   "source": [
    "#### Task 14 - add the spiking behaviour to the code\n",
    "\n",
    "You can now try to modify the code from above.\n",
    "Add the new variables to the voltage_evolution function and add the if condition in the for-loop, where we update the voltage value."
   ]
  },
  {
   "cell_type": "code",
   "execution_count": 10,
   "id": "44ea696e",
   "metadata": {},
   "outputs": [
    {
     "data": {
      "text/plain": [
       "' \\n    Put your code here\\n'"
      ]
     },
     "execution_count": 10,
     "metadata": {},
     "output_type": "execute_result"
    }
   ],
   "source": [
    "''' \n",
    "    Put your code here\n",
    "'''"
   ]
  },
  {
   "cell_type": "markdown",
   "id": "a17a3736",
   "metadata": {},
   "source": [
    "[Solution 14](https://raw.githubusercontent.com/comp-neural-circuits/intro-to-comp-neuro/dev/notebooks/Exc_1/solutions/78a5a35c0791e00cfff0b965447c82b9.txt)"
   ]
  },
  {
   "cell_type": "markdown",
   "id": "afaec9e2",
   "metadata": {},
   "source": [
    "#### Solution 14 - What happend\n",
    "Now you should see something similar to this plot.\n",
    "\n",
    "<div>\n",
    "<img src=\"https://github.com/comp-neural-circuits/intro-to-comp-neuro/raw/dev/notebooks/Exc_1/static/spiking_lif.png\" width=\"450\"/>\n",
    "</div>\n",
    "\n",
    "We can see here that the membrane voltage starts to increase and everytime it reaches the threshold it is reset to our predefined value. \n",
    "we created a neuron model!\n",
    "You can play around with the paramters again if you like. For example, increasing the input current should give you more spikes in the time window, whereas there should be a current value below which we won't see any spike.\n",
    "\n",
    "Now we want to move on to some more advanced concepts of programming. "
   ]
  },
  {
   "cell_type": "markdown",
   "id": "f76f50e8",
   "metadata": {},
   "source": [
    "# Classes\n",
    "\n",
    "Python allows Object Oriented Programming (OOB), which we will now explore. \n",
    "There are two main components of OOB: **classes** and **objects**. **Classes** can hold data (called attributes) and functions (called methods). In our case, we want to write a class of a LIF neuron model, that contains data (the parameters we set, the membrane voltage traces we create, ...) and functions (to plot the data, to run the simulation, ...) \n",
    "\n",
    "Once we defined the class we can create instances of that class. For example a LIF with a threshold at -50 mV and another instance of that class with a threshold at -55mV. These instances are called **objects**. While they all share a common backbone, they are independent of each other. \n",
    "\n",
    "We create a simple class below:\n",
    "\n",
    " -- A brief note on naming conventions. The most common guideline is [PEP8](https://peps.python.org/pep-0008/) and following these conventions allows better code readability when the code is shared with other people. However, the most important part is to be consistent within your code, then you can pick up on the conventions one by one. \n",
    " As an example, class names usually use the CapsWords convention.\n",
    " \n"
   ]
  },
  {
   "cell_type": "code",
   "execution_count": 1,
   "id": "0ceaf7ab",
   "metadata": {},
   "outputs": [],
   "source": [
    "class LIFNeuron(object):\n",
    "    \"\"\"The first version of our LIF neuron class that can initiate a single neuron, \n",
    "    run the simulation for a certain number of steps while keeping track of the membrane voltage\n",
    "    and plot the results of the run\n",
    "    \"\"\"\n",
    "    def __init__(self, \n",
    "                 tau_m = 10, v_start = -50, el = -75, r_m = 100e6, v_reset = -70, v_th = -50,\n",
    "                 I_e = 10e-8,\n",
    "                 dt = 0.1):\n",
    "        '''This function is executed when we create an object from that class'''\n",
    "        super(LIFNeuron, self).__init__()\n",
    "        self.tau_m = tau_m\n",
    "        self.el = el\n",
    "        self.dt = dt\n",
    "        self.r_m = r_m\n",
    "        self.v_reset = v_reset\n",
    "        self.v_th = v_th\n",
    "        \n",
    "        self.v = v_start\n",
    "        \n",
    "        self.I_e = I_e\n",
    "        \n",
    "        self.v_list = [v_start]\n",
    "        self.t_list = [0]\n",
    "    \n",
    "    def timestep(self):\n",
    "        if self.v <= self.v_th:\n",
    "            dv_dt = (-self.v + self.el + self.r_m * self.I_e)/self.tau_m\n",
    "            self.v += dv_dt * self.dt\n",
    "        else:\n",
    "            self.v = self.v_reset\n",
    "            \n",
    "    \n",
    "    def run_simulation(self, time_steps = 100):\n",
    "        \n",
    "        for ii in range(time_steps):\n",
    "            self.timestep()\n",
    "            \n",
    "            self.v_list.append(self.v)\n",
    "            current_time = self.t_list[-1] + self.dt\n",
    "            self.t_list.append(current_time) \n",
    "            \n",
    "    def plot_traces(self):\n",
    "        \n",
    "        plt.figure()\n",
    "        plt.title('Time evolution of membrane voltage')\n",
    "\n",
    "        plt.plot(self.t_list,self.v_list,linewidth=2.5)\n",
    "\n",
    "        plt.xlabel('Time in ms')\n",
    "        plt.ylabel('Voltage in mV')\n",
    "\n",
    "        plt.ylim([-80,20])\n",
    "        plt.show()\n",
    "        \n",
    "    \n",
    "        \n",
    "        "
   ]
  },
  {
   "cell_type": "markdown",
   "id": "9fd5d7af",
   "metadata": {},
   "source": [
    "Once you executed the cell above, we can now run our simulation and show the results like before, with only three lines of code."
   ]
  },
  {
   "cell_type": "code",
   "execution_count": 6,
   "id": "13d7183c",
   "metadata": {},
   "outputs": [
    {
     "data": {
      "image/png": "[encoded data removed]",
      "text/plain": [
       "<Figure size 800x600 with 1 Axes>"
      ]
     },
     "metadata": {},
     "output_type": "display_data"
    }
   ],
   "source": [
    "neuron = LIFNeuron()\n",
    "neuron.run_simulation(100)\n",
    "neuron.plot_traces()"
   ]
  },
  {
   "cell_type": "markdown",
   "id": "81c83af9",
   "metadata": {},
   "source": [
    "#### Task 15 - Explain the plot below\n",
    "Even more, we can now use this class in a very flexible way, since we can also access and change the parameters in an instance, once it is created. Can you describe what happens in the next cell? "
   ]
  },
  {
   "cell_type": "code",
   "execution_count": 7,
   "id": "fd308453",
   "metadata": {},
   "outputs": [
    {
     "data": {
      "image/png": "[encoded data removed]",
      "text/plain": [
       "<Figure size 800x600 with 1 Axes>"
      ]
     },
     "metadata": {},
     "output_type": "display_data"
    }
   ],
   "source": [
    "neuron = LIFNeuron(I_e = 0)\n",
    "neuron.run_simulation(500)\n",
    "neuron.I_e = 8e-9\n",
    "neuron.run_simulation(500)\n",
    "neuron.I_e = 0\n",
    "neuron.run_simulation(500)\n",
    "neuron.I_e = 4e-8\n",
    "neuron.run_simulation(500)\n",
    "neuron.plot_traces()"
   ]
  },
  {
   "cell_type": "markdown",
   "id": "43c9982c",
   "metadata": {},
   "source": [
    "[Solution 15 - what happend](https://raw.githubusercontent.com/comp-neural-circuits/intro-to-comp-neuro/dev/notebooks/Exc_1/solutions/08adc119b92a93040de437337a924b92.txt)"
   ]
  },
  {
   "cell_type": "markdown",
   "id": "dc6aec2e",
   "metadata": {},
   "source": [
    "#### Task 16 - Bonus\n",
    "\n",
    "In case you have some time left, here are some ideas on how to modify the code of our LIF class to make it 'more realistic'\n",
    "\n",
    "1) There are no real spikes at the moment. We immediately set the voltage value back to the reset potential. Can you change the code so that we see a more realistic spike? When the voltage crosses the threshold, it should usually reach membrane potentials around -20 mV\n",
    "\n",
    "2) Usually neurons have a so called 'refractory period'. This means that they cannot spike for some time after they spiked once. Our neuron model does not have that, can you add a refractory period by holding the membrane potential at rest for 10 ms after each spike?"
   ]
  },
  {
   "cell_type": "markdown",
   "id": "f451b985",
   "metadata": {},
   "source": [
    "# Congratulations\n",
    "\n",
    "This was the first notebook of this semester about the LIF model. "
   ]
  },
  {
   "cell_type": "code",
   "execution_count": null,
   "id": "fefcc1f8",
   "metadata": {
    "lines_to_next_cell": 2
   },
   "outputs": [],
   "source": []
  }
 ],
 "metadata": {
  "jupytext": {
   "formats": "ipynb,py"
  },
  "kernelspec": {
   "display_name": "intro-to-comp-neuro",
   "language": "python",
   "name": "intro-to-comp-neuro"
  },
  "language_info": {
   "codemirror_mode": {
    "name": "ipython",
    "version": 3
   },
   "file_extension": ".py",
   "mimetype": "text/x-python",
   "name": "python",
   "nbconvert_exporter": "python",
   "pygments_lexer": "ipython3",
   "version": "3.9.0"
  }
 },
 "nbformat": 4,
 "nbformat_minor": 5
}
