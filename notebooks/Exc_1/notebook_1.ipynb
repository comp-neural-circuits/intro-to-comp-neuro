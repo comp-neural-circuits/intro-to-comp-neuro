{
 "cells": [
  {
   "cell_type": "markdown",
   "id": "4d2e5a50",
   "metadata": {},
   "source": [
    "# Section 1 - The leaky-integrate and fire (LIF) model and python basics"
   ]
  },
  {
   "cell_type": "markdown",
   "id": "59dd4ea8",
   "metadata": {},
   "source": [
    "## Section 1.1. \n",
    "\n",
    "In order to write programming scripts, we need a few basics: \n",
    "\n",
    "We will program our scripts in python, a very versatile and widely used programming language. \n",
    "To execute the written programs we need a <i>python interpreter</i>. Google colab allows us to run an instance in the browser, without the need to install anything locally on the computer. \n",
    "\n",
    "\n"
   ]
  },
  {
   "cell_type": "markdown",
   "id": "32fda41e",
   "metadata": {},
   "source": [
    "While learning the basics of python, we want to look at an example model taught in the lecture. The leaky integrate and fire (LIF) model. \n",
    "<div>\n",
    "<img src=\"https://github.com/comp-neural-circuits/intro-to-comp-neuro/raw/dev/notebooks/Exc_1/static/neuron_to_circuit.png\" width=\"750\"/>\n",
    "</div>\n",
    "\n",
    "From the lecture we know that we can describe the change of the membrane potential with the following equation:\n",
    "\n",
    "\\begin{equation}\n",
    "\\tau_m\\,\\frac{dV}{dt} = - V + E_{L} + R_m\\,I_e \\qquad (1)\n",
    "\\end{equation}\n",
    "\n",
    "We ignore the injected external current for now ($I_e = 0$) which means the equation simplifies to \n",
    "\\begin{equation}\n",
    "\\tau_m\\,\\frac{dV}{dt} = - V + E_{L} \\qquad (2)\n",
    "\\end{equation}\n",
    "\n",
    "in this equation we have three parameters, let's define them. "
   ]
  },
  {
   "cell_type": "markdown",
   "id": "9c8292fd",
   "metadata": {},
   "source": [
    "#### Task X - Execute the cell below\n",
    "When executing a cell, the python interpreter will run the code we provide.\n",
    "\n",
    "When you select the cell and either press 'Run' at the top of the page or press 'shift+Enter' on the keyboard. \n",
    "\n",
    "try it out:"
   ]
  },
  {
   "cell_type": "code",
   "execution_count": 69,
   "id": "ee44d3e9",
   "metadata": {},
   "outputs": [
    {
     "name": "stdout",
     "output_type": "stream",
     "text": [
      "20 -50 -60\n"
     ]
    }
   ],
   "source": [
    "tau_m = 20 # in ms\n",
    "v = -50 # in mV\n",
    "el = -60 # in mV\n",
    "print (tau_m, v, el)"
   ]
  },
  {
   "cell_type": "markdown",
   "id": "73322994",
   "metadata": {},
   "source": [
    "#### Solution X -  What happend\n",
    "1/2/3 We assigned values (on the right side of the equal sign) to three distinct variables (on the left of the equal sign).\n",
    "\n",
    "In addition, we can comment the code by using the '#' symbol. Everything in the same line behind this symbol will be ignored when the code is executed.\n",
    "\n",
    "4 At the end, we print the values that we just defined"
   ]
  },
  {
   "cell_type": "markdown",
   "id": "fc1bd6fb",
   "metadata": {},
   "source": [
    "Following equation (2), we can now calculate the change in the membrane voltage per time-step. "
   ]
  },
  {
   "cell_type": "code",
   "execution_count": 70,
   "id": "2e679402",
   "metadata": {},
   "outputs": [
    {
     "name": "stdout",
     "output_type": "stream",
     "text": [
      "-0.5\n"
     ]
    }
   ],
   "source": [
    "dv_dt = (-v + el)/tau_m\n",
    "print (dv_dt)"
   ]
  },
  {
   "cell_type": "markdown",
   "id": "82e87df1",
   "metadata": {},
   "source": [
    "This means the membrane potential changes by -0.5mV per ms if the membrane potential is at -50 mV. "
   ]
  },
  {
   "cell_type": "markdown",
   "id": "fcefa01d",
   "metadata": {},
   "source": [
    "#### Task X - Calculate the voltage change for multiple time steps\n",
    "\n",
    "After applying the change in voltage as we did above for one time step (adding -0.5mV/ms * 1ms to -50mV), we can ask again what the change is - given the new voltage value, then apply this again and so on"
   ]
  },
  {
   "cell_type": "code",
   "execution_count": 71,
   "id": "33aaacce",
   "metadata": {},
   "outputs": [
    {
     "name": "stdout",
     "output_type": "stream",
     "text": [
      "dv/dt -0.5\n",
      "v -50.05\n",
      "dv/dt -0.49750000000000016\n",
      "v -50.09975\n"
     ]
    }
   ],
   "source": [
    "dt = 0.1 # in ms\n",
    "v = -50 # in mV\n",
    "dv_dt = (-v + el)/tau_m\n",
    "print ('dv/dt', dv_dt)\n",
    "v = v + dv_dt * dt\n",
    "print ('v', v)\n",
    "dv_dt = (-v + el)/tau_m\n",
    "print ('dv/dt', dv_dt)\n",
    "v = v + dv_dt * dt\n",
    "print ('v', v)"
   ]
  },
  {
   "cell_type": "markdown",
   "id": "22581d24",
   "metadata": {},
   "source": [
    "#### Solution X - What happend\n",
    "\n",
    "1 We defined a new variable\n",
    "\n",
    "2 We made sure that our variable defined above (v) is still at -50\n",
    "\n",
    "3 calculating the instantaneous change in v\n",
    "\n",
    "4 printing the calculated value, while also printing what the value is\n",
    "\n",
    "5 setting v equal to its old value plus the change it experiences multiplied with our chosen timestep\n",
    "\n",
    "6 printing v (and printing that we print v)\n",
    "\n",
    "7 we repeat the steps 3) to 6)\n",
    "\n",
    "Now thinking about even more repeats of these steps leads us to a very fundamental concept of programming: "
   ]
  },
  {
   "cell_type": "markdown",
   "id": "8a0ffd05",
   "metadata": {},
   "source": [
    "## Loops\n",
    "More specifically, the for-loop.\n",
    "Loops allow us to execute the same code multiple times, or even to let programs run indefinetly. We can re-write the above code with a for-loop."
   ]
  },
  {
   "cell_type": "markdown",
   "id": "7e4e65ff",
   "metadata": {},
   "source": [
    "#### Task X - Change the number of repetitions\n",
    "\n",
    "Initially we execute the code block from above (2 times). You can change how often it will be repeated by changing the number in the 'range' function. Try it out."
   ]
  },
  {
   "cell_type": "code",
   "execution_count": 21,
   "id": "df9517db",
   "metadata": {},
   "outputs": [
    {
     "name": "stdout",
     "output_type": "stream",
     "text": [
      "dv/dt -0.5\n",
      "v -50.5\n",
      "dv/dt -0.475\n",
      "v -50.975\n"
     ]
    }
   ],
   "source": [
    "dt = 0.1 # in ms\n",
    "v = -50 # in mV\n",
    "\n",
    "for ii in range(2):\n",
    "    dv_dt = (-v + el)/tau_m\n",
    "    print ('dv/dt', dv_dt)\n",
    "    v = v + dv_dt * dt\n",
    "    print ('v', v)"
   ]
  },
  {
   "cell_type": "markdown",
   "id": "d6313ef0",
   "metadata": {},
   "source": [
    "#### More information on the for-loop\n",
    "\n",
    "You just executed a for-loop. The syntax of a for-loop is the following:\n",
    "```python\n",
    "    for iteration_variable in values_to_iterate_through:\n",
    "        # do something\n",
    "```\n",
    "\n",
    "In our case the iteration variable is ii and the values_to_iterate_through are provided by the function range() where we can provide an input paramter.\n",
    "\n",
    "It is important to note that we see an indentation after we defined our for-loop (and ended the line with a colon)\n",
    "\n",
    "Everything that is indented will be executed within the loop. \n",
    "You can try it out with the example above by removing the indent for the last line. v will then be printed only when the loop is done.\n",
    "\n",
    "Ususally, people use four or two spaces as the indentation level (or pressing TAB).\n",
    "\n",
    "You can also access the iteration variable in the for-loop. you can try out the example below.   "
   ]
  },
  {
   "cell_type": "markdown",
   "id": "4699ccc1",
   "metadata": {},
   "source": [
    "#### Task X - Answer the following questions\n",
    "\n",
    "0) execute the cell\n",
    "\n",
    "1) what is the starting/ending value for the iteration variabel ii, does it make sense to you?\n",
    "\n",
    "2) you will see that the iteration variable takes on integer values, how can you get floating point steps instead? - try it out"
   ]
  },
  {
   "cell_type": "code",
   "execution_count": 62,
   "id": "5d441009",
   "metadata": {},
   "outputs": [
    {
     "name": "stdout",
     "output_type": "stream",
     "text": [
      "0\n",
      "1\n",
      "2\n",
      "3\n"
     ]
    }
   ],
   "source": [
    "for ii in range(4):\n",
    "    print (ii)"
   ]
  },
  {
   "cell_type": "markdown",
   "id": "59398faf",
   "metadata": {},
   "source": [
    "#### solution X\n",
    "\n",
    "1) we start with the integer 0 and we always end one step before the value x (i.e. x-1) that we provide for the range function (so we always iterate for x steps)\n",
    "\n",
    "2) to get floating point steps we can multiply our integer values with the floating point number we prefer (for example 0.1) "
   ]
  },
  {
   "cell_type": "markdown",
   "id": "c89da0a7",
   "metadata": {},
   "source": [
    "We now use the for loop to run our code from above many times and look at the final value of v"
   ]
  },
  {
   "cell_type": "markdown",
   "id": "3d957724",
   "metadata": {},
   "source": [
    "#### Task  X - Change the starting value of v\n",
    "\n",
    "When executing the cell below, you can now change the starting value of v. \n",
    "\n",
    "However, you should see that (given we have enough repetitions), your final v should always be very close to the same value. Can you explain why this is correct?"
   ]
  },
  {
   "cell_type": "code",
   "execution_count": 27,
   "id": "65db3688",
   "metadata": {},
   "outputs": [
    {
     "name": "stdout",
     "output_type": "stream",
     "text": [
      "final v -59.99999999999993 -3.552713678800501e-15\n"
     ]
    }
   ],
   "source": [
    "dt = 0.1 # in ms\n",
    "v = -55 # in mV\n",
    "\n",
    "for ii in range(1000):\n",
    "    dv_dt = (-v + el)/tau_m\n",
    "    v = v + dv_dt * dt\n",
    "\n",
    "print ('final v', v)"
   ]
  },
  {
   "cell_type": "markdown",
   "id": "c7b5834f",
   "metadata": {},
   "source": [
    "#### Solution X \n",
    "\n",
    "we still simulate the time evolution of the membrane voltage v following equation (2). The equation describes how much the voltage changes, given it's current value and the fixed parameters we define at the beginning. We can see that the right side of the equation becomes 0, when v equals el. This means that there will be no change anymore - we reached a stable configuration, a fixed point. \n",
    "\n",
    "in a rather simple system like this, we can then realize that v will always evolve towards the value of 'el', independent of the starting value (the starting condition).\n",
    "\n",
    "Bonus: you can actually calculate the integral of equation (2), what function do you get out? We will come back to this later ..."
   ]
  },
  {
   "cell_type": "markdown",
   "id": "a7b689f1",
   "metadata": {},
   "source": [
    "Until now we defined how v should evolve over time and we can see what the final value of v is, or print intermediate values of v. Ultimately, we want to save the values of v between the beginning and the end, in order to access them later on. This leads us to another variable type.\n",
    "\n",
    "## Lists\n",
    "\n",
    "Lists can store multiple varibales of the same, or even of different types. A list is defined like this\n",
    "```python\n",
    "    example_list = [1,2,3]\n",
    "    empty_list = []\n",
    "```\n",
    "We can append elements to this list with \n",
    "```python\n",
    "    empty_list.append(1)\n",
    "```"
   ]
  },
  {
   "cell_type": "markdown",
   "id": "4a8dfe08",
   "metadata": {},
   "source": [
    "#### Task x - save all intermediate values of v\n",
    "\n",
    "can you re-write the code from above, so that we do not only print the final v but a list of all v's after the loop has finsihed?"
   ]
  },
  {
   "cell_type": "code",
   "execution_count": 66,
   "id": "a963130b",
   "metadata": {},
   "outputs": [],
   "source": [
    "dt = 0.1 # in ms\n",
    "v = -55 # in mV\n",
    "v_list = []\n",
    "\n",
    "# continue here with your code"
   ]
  },
  {
   "cell_type": "markdown",
   "id": "de7b9fff",
   "metadata": {},
   "source": [
    "#### Solution X \n",
    "\n",
    "```python\n",
    "dt = 0.1 # in ms\n",
    "v = -55 # in mV\n",
    "v_list = []\n",
    "for ii in range(10):\n",
    "    dv_dt = (-v + el)/tau_m\n",
    "    v = v + dv_dt * dt\n",
    "    v_list.append(v) \n",
    "\n",
    "print (v_list)\n",
    "```"
   ]
  },
  {
   "cell_type": "markdown",
   "id": "4917508e",
   "metadata": {},
   "source": [
    "Great! We now have run a simulation of the time evolution of the membrane voltage and saved the values of v. However, we would also like to have the corresponding values of the time that passed for every voltage value. \n",
    "\n",
    "#### Task X - save the time values as well\n",
    "\n",
    "Can you re-write the code above, to not only save and print the voltage values, but also do the same for the time steps? "
   ]
  },
  {
   "cell_type": "markdown",
   "id": "cd4d9c65",
   "metadata": {},
   "source": [
    "#### Solution X \n",
    "\n",
    "```python\n",
    "dt = 0.1 # in ms\n",
    "v = -55 # in mV\n",
    "v_list = []\n",
    "t_list = []\n",
    "for ii in range(10):\n",
    "    dv_dt = (-v + el)/tau_m\n",
    "    v = v + dv_dt * dt\n",
    "    v_list.append(v) \n",
    "    t_list.append(ii*dt)\n",
    "\n",
    "print (v_list, t_list)\n",
    "```"
   ]
  },
  {
   "cell_type": "markdown",
   "id": "7f22f642",
   "metadata": {},
   "source": [
    "To get a better understanding of how the voltage evolves, we want to visualize the data.\n",
    "\n",
    "## Plots\n",
    "\n",
    "To visualize with python, we make use of a library. Libraries provide pre-written functions, so we don't have to write them from scratch. To import a library we have to add the following line (usually always at the beginning of the code)\n",
    "```python\n",
    "    import matplotlib.pyplot as plt\n",
    "```\n",
    "with this line we can import the library matplotlib.pyplot and we can call it from then on with the the name plt "
   ]
  },
  {
   "cell_type": "markdown",
   "id": "6a4e1700",
   "metadata": {},
   "source": [
    "#### Task X - Play around\n",
    "\n",
    "In the cell below you can play around with plotting. \n",
    "here is the original code of the cell in case you want to reset:\n",
    "```python\n",
    "import matplotlib.pyplot as plt\n",
    "\n",
    "plt.figure()\n",
    "plt.title('Example Plot')\n",
    "x = [0,1]\n",
    "y = [1,2]\n",
    "plt.plot(x,y,color='red', linewidth=2.5)\n",
    "plt.xlabel('X-axis')\n",
    "plt.ylabel('Y-axis')\n",
    "plt.show()\n",
    "```\n",
    "<div>\n",
    "<img src=\"https://github.com/comp-neural-circuits/intro-to-comp-neuro/raw/dev/notebooks/Exc_1/static/simple_line_plot.png\" width=\"350\"/>\n",
    "</div>\n"
   ]
  },
  {
   "cell_type": "code",
   "execution_count": 60,
   "id": "cfb192f3",
   "metadata": {},
   "outputs": [
    {
     "data": {
      "image/png": "[encoded data removed]",
      "text/plain": [
       "<Figure size 432x288 with 1 Axes>"
      ]
     },
     "metadata": {
      "needs_background": "light"
     },
     "output_type": "display_data"
    }
   ],
   "source": [
    "import matplotlib.pyplot as plt\n",
    "\n",
    "plt.figure()\n",
    "plt.title('Example Plot')\n",
    "x = [0,1]\n",
    "y = [1,2]\n",
    "plt.plot(x,y,color='red', linewidth=2.5)\n",
    "plt.xlabel('X-axis')\n",
    "plt.ylabel('Y-axis')\n",
    "plt.show()"
   ]
  },
  {
   "cell_type": "markdown",
   "id": "fe204f69",
   "metadata": {},
   "source": [
    "#### Solution X - What happend\n",
    "\n",
    "1) We import the library that we need for plotting. Once imported, we will be able to use it in every cell in this notebook. So for the next notebooks we will import it at the beginning.\n",
    "\n",
    "3 We create a figure.\n",
    "\n",
    "4 We add a title to the figure\n",
    "\n",
    "5/6 we define our x- and y- values\n",
    "\n",
    "7 we create a line-plot (plt.plot) the first argument of the function have to be the x-values, the second the y-values. then we have some specified parameters, like the color or the linewidth. If you are interested - there are many paramters more we can modify - we'll learn about them later on\n",
    "\n",
    "8/9 we label the x- and y-axis\n",
    "\n",
    "10 we show the plot - this line is not necessary in notebooks like this one, but you need it for python scripts for example. \n"
   ]
  },
  {
   "cell_type": "markdown",
   "id": "02d55600",
   "metadata": {},
   "source": [
    "#### Task X - Plot the time evolution of the membrane voltage\n",
    "\n",
    "Try to combine the code where we calculate and save the v and t values and the plotting code to create a figure that should look roughly like this:\n",
    "\n",
    "(with a starting value of v = -55, a timestep dt=0,1 and iterating over range(1000) )\n",
    "\n",
    "<div>\n",
    "<img src=\"https://github.com/comp-neural-circuits/intro-to-comp-neuro/raw/dev/notebooks/Exc_1/static/membrane_voltage_decay.png\" width=\"350\"/>\n",
    "</div>\n"
   ]
  },
  {
   "cell_type": "code",
   "execution_count": null,
   "id": "0004d5d7",
   "metadata": {
    "lines_to_end_of_cell_marker": 2
   },
   "outputs": [],
   "source": [
    "### Add your code here"
   ]
  },
  {
   "cell_type": "markdown",
   "id": "9a498666",
   "metadata": {},
   "source": [
    "#### Solution X\n",
    "\n",
    "```python\n",
    "dt = 0.1 # in ms\n",
    "v = -55 # in mV\n",
    "v_list = []\n",
    "t_list = []\n",
    "\n",
    "for ii in range(1000):\n",
    "    dv_dt = (-v + el)/tau_m\n",
    "    v = v + dv_dt * dt\n",
    "    v_list.append(v) \n",
    "    t_list.append(ii*dt) # we multiply our time step with our iteration variable to get the time\n",
    "\n",
    "plt.figure()\n",
    "plt.title('Time evolution of membrane voltage')\n",
    "plt.plot(t_list,v_list,linewidth=2.5)\n",
    "plt.xlabel('Time in ms')\n",
    "plt.ylabel('Voltage in mV')\n",
    "plt.show()\n",
    "```"
   ]
  },
  {
   "cell_type": "code",
   "execution_count": 89,
   "id": "4afe612f",
   "metadata": {},
   "outputs": [],
   "source": [
    "def test_function(v_start):\n",
    "    v_list = []\n",
    "    t_list = []\n",
    "    \n",
    "    dt = 0.1\n",
    "    v = v_start\n",
    "    for ii in range(1000):\n",
    "        dv_dt = (-v + el)/tau_m\n",
    "        v = v + dv_dt * dt\n",
    "        v_list.append(v) \n",
    "        t_list.append(ii*dt) # we multiply our time step with our iteration variable to get the time\n",
    "        \n",
    "    return v_list, t_list"
   ]
  },
  {
   "cell_type": "code",
   "execution_count": 90,
   "id": "ee0aebd6",
   "metadata": {},
   "outputs": [
    {
     "data": {
      "image/png": "[encoded data removed]",
      "text/plain": [
       "<Figure size 432x288 with 1 Axes>"
      ]
     },
     "metadata": {
      "needs_background": "light"
     },
     "output_type": "display_data"
    }
   ],
   "source": [
    "v_list_1, t_list_1 = test_function(v_start=-10)\n",
    "v_list_2, t_list_2 = test_function(v_start=-40)\n",
    "plt.figure()\n",
    "plt.title('Time evolution of membrane voltage')\n",
    "plt.plot(t_list_1,v_list_1,linewidth=2.5, label='v_start = -10')\n",
    "plt.plot(t_list_2,v_list_2,linewidth=2.5, label='v_start = -40')\n",
    "plt.xlabel('Time in ms')\n",
    "plt.ylabel('Voltage in mV')\n",
    "plt.legend()\n",
    "plt.show()"
   ]
  },
  {
   "cell_type": "code",
   "execution_count": null,
   "id": "bbad7a53",
   "metadata": {},
   "outputs": [],
   "source": []
  }
 ],
 "metadata": {
  "jupytext": {
   "formats": "ipynb,py"
  },
  "kernelspec": {
   "display_name": "intro-to-comp-neuro",
   "language": "python",
   "name": "intro-to-comp-neuro"
  },
  "language_info": {
   "codemirror_mode": {
    "name": "ipython",
    "version": 3
   },
   "file_extension": ".py",
   "mimetype": "text/x-python",
   "name": "python",
   "nbconvert_exporter": "python",
   "pygments_lexer": "ipython3",
   "version": "3.9.0"
  }
 },
 "nbformat": 4,
 "nbformat_minor": 5
}
