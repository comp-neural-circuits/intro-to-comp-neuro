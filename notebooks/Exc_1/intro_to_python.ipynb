{
 "cells": [
  {
   "cell_type": "markdown",
   "id": "4d2e5a50",
   "metadata": {},
   "source": [
    "# Section 1 - The leaky-integrate and fire (LIF) model and python basics"
   ]
  },
  {
   "cell_type": "markdown",
   "id": "6f44905d",
   "metadata": {},
   "source": [
    "## Section 1.1: Python basics\n",
    "\n",
    "In order to write programs, we need a few basics: \n",
    "\n",
    "We will program our scripts in python, a very versatile and widely used programming language. \n",
    "To execute the written programs we need a <i>python interpreter</i>. Google colab allows us to run an instance in the cloud, without the need to install anything locally on the computer. "
   ]
  },
  {
   "cell_type": "markdown",
   "id": "7d393373",
   "metadata": {},
   "source": [
    "### Print\n",
    "We will start with the infamous 'hello world' example: \n",
    "\n",
    "You can call the interpreter to execute the code within each cell of this notebook by pressing 'shift+Enter' on your keyboard. \n",
    "\n",
    "Try this with the next cell to print 'Hello World':"
   ]
  },
  {
   "cell_type": "code",
   "execution_count": 1,
   "id": "00fd4fbc",
   "metadata": {},
   "outputs": [
    {
     "name": "stdout",
     "output_type": "stream",
     "text": [
      "Hello World\n"
     ]
    }
   ],
   "source": [
    "print ('Hello World')"
   ]
  },
  {
   "cell_type": "markdown",
   "id": "7022ebeb",
   "metadata": {},
   "source": [
    "What happend? \n",
    "We called a python function ```print``` \n",
    "This function takes an argument which we presented within the brackets, in this case ```'Hello World'```.\n",
    "The argument is then printed out."
   ]
  },
  {
   "cell_type": "markdown",
   "id": "5eac5787",
   "metadata": {},
   "source": [
    "### Variables and comments\n",
    "You might notice the single quotes (') around Hello World, they define a data type in python that is called <i>String</i>\n",
    "\n",
    "Instead of printing it directly, we now want to store the string in a variable 'words' and then print this variable. \n",
    "Try it by executing the following cell:"
   ]
  },
  {
   "cell_type": "code",
   "execution_count": 2,
   "id": "57c09ff6",
   "metadata": {},
   "outputs": [
    {
     "name": "stdout",
     "output_type": "stream",
     "text": [
      "Hello World\n"
     ]
    }
   ],
   "source": [
    "words = 'Hello World'\n",
    "print (words)"
   ]
  },
  {
   "cell_type": "markdown",
   "id": "53a6507c",
   "metadata": {},
   "source": [
    "Great. There are two more data types we need to know:  <i>int</i> and <i>float</i>\n",
    "\n",
    "<i>int</i> is used for an integer, \n",
    "<i>float</i> is used for a float point variable,\n",
    "<i>bool</i> is used for a boolean, to indicate True, or False - and <i>lists</i> are used for lists of variables that can consist of the other types:\n",
    "``` python\n",
    "example_integer = 5\n",
    "example_float = 1.234\n",
    "example_boolean = True\n",
    "example_list_1 = [1,2,3,5]\n",
    "example_list_2 = [1.2, True, False, 4, 'hello']\n",
    "```\n",
    "\n",
    "You can see that in python, we implicitly define the variable type simply by assigning a value to the variable.\n",
    "\n",
    "once defined we can re-use the variables later on, as in the example above with the print function. When defining variables, it is useful to be consistent throughout your code and to follow guidelines.\n",
    "A general guideline is [PEP8](https://peps.python.org/pep-0008/). \n",
    "\n",
    "For example it is common for variable names to use lowercase letters and (if necessary) underscores between words.\n",
    "\n",
    "Another concept of programming is the comment:\n",
    "\n",
    "``` python\n",
    "# <- everything in the same line after this symbol is not evaluated by the interpreter\n",
    "```\n",
    "\n",
    "We can also add comments that span multiple lines (we start and end those with three quotation marks):\n",
    "``` python\n",
    "\"\"\" \n",
    "    This is a nice comment that is so long\n",
    "    it needs multiple lines\n",
    "\"\"\"\n",
    "```\n",
    "\n",
    "Comments can be used to describe parts of the code or give additional information.\n",
    "\n",
    "Now we want to put all of this together. Follow the instructions given in the comments in the cell below. When you are done, execute the cell:"
   ]
  },
  {
   "cell_type": "markdown",
   "id": "b86af37c",
   "metadata": {},
   "source": [
    "#### Excercise"
   ]
  },
  {
   "cell_type": "code",
   "execution_count": 5,
   "id": "1c76841e",
   "metadata": {
    "lines_to_end_of_cell_marker": 2
   },
   "outputs": [
    {
     "name": "stdout",
     "output_type": "stream",
     "text": [
      "Ellipsis\n"
     ]
    }
   ],
   "source": [
    "\"\"\"\n",
    "Excercise 1 : In this cell we want to add two numbers and print the result.\n",
    "\"\"\"\n",
    "\n",
    "# Define the first variable and assign the value 7\n",
    "...\n",
    "# Now define the second variable and assign the value 5\n",
    "...\n",
    "\n",
    "# Now you can define a third variable and assign the sum of the two values to it\n",
    "...\n",
    "\n",
    "# And finally we print the result\n",
    "print (...)"
   ]
  },
  {
   "cell_type": "markdown",
   "id": "2eb4c5c0",
   "metadata": {},
   "source": [
    "[Click here for the solution](https://github.com/comp-neural-circuits/intro-to-comp-neuro/blob/dev/notebooks/Exc_1/solutions/solution_1.py)"
   ]
  },
  {
   "cell_type": "markdown",
   "id": "f30ff159",
   "metadata": {},
   "source": [
    "### For Loops \n",
    "\n",
    "A very versitale concept in programming is the for loop. It allows us to execute the same code multiple times, often while using different values for our parameters. \n",
    "\n",
    "Let's assume we want to print three time steps (0, 1 and 2).\n",
    "\n",
    "In the following cell we see four distinc solutions to this problem, all with the same outcome.\n"
   ]
  },
  {
   "cell_type": "code",
   "execution_count": 4,
   "id": "760c033d",
   "metadata": {},
   "outputs": [
    {
     "name": "stdout",
     "output_type": "stream",
     "text": [
      "Option A\n",
      "0\n",
      "1\n",
      "2\n",
      "Option B\n",
      "0\n",
      "1\n",
      "2\n",
      "Option C\n",
      "0\n",
      "1\n",
      "2\n",
      "Option D\n",
      "0\n",
      "1\n",
      "2\n"
     ]
    }
   ],
   "source": [
    "# one option is to print every timestep\n",
    "print ('Option A')\n",
    "print (0)\n",
    "print (1)\n",
    "print (2)\n",
    "# However, you can imagine this becomes very tideous for many time steps\n",
    "\n",
    "# another option is the for loop:\n",
    "print ('Option B')\n",
    "for step in [0,1,2]:\n",
    "    print (step)\n",
    "    \n",
    "    \n",
    "# We can also use pythons 'range' function with the same result\n",
    "print ('Option C')\n",
    "start = 0\n",
    "end = 3\n",
    "stepsize = 1\n",
    "for step in range(start, end, stepsize):\n",
    "    print(step)\n",
    "\n",
    "\n",
    "# The function also has default parameters\n",
    "# if not provided, start is assumed to be 0 and stepsize to be 1\n",
    "# therefore, we can also write\n",
    "print ('Option D')\n",
    "for step in range(3):\n",
    "    print(step)\n"
   ]
  },
  {
   "cell_type": "markdown",
   "id": "fb3c162e",
   "metadata": {},
   "source": [
    "It is important to note the intendation that we used for the for loop. \n",
    "\n",
    "Python uses intendation to structure the code. The definition of the for loop ends with a colon and everything that belongs in the loop needs to be written below with (at least, as we see later) the same intendation.\n",
    "\n",
    "Often, the intendation is four spaces.\n",
    "\n",
    "```python\n",
    "for variable_name in range(range_length):\n",
    "    print (variable_name)\n",
    "```\n",
    "    \n",
    "We can also use the for loop to change a variable that we defined before:"
   ]
  },
  {
   "cell_type": "code",
   "execution_count": 21,
   "id": "d46076a7",
   "metadata": {},
   "outputs": [
    {
     "name": "stdout",
     "output_type": "stream",
     "text": [
      "Example 1 6\n",
      "Example 2 40\n",
      "Example 3 40\n"
     ]
    }
   ],
   "source": [
    "defined_variable = 0\n",
    "for ii in range(4):\n",
    "    defined_variable = defined_variable + ii\n",
    "\n",
    "print ('Example 1', defined_variable)\n",
    "\n",
    "\n",
    "new_var = 10\n",
    "for ii in range(3):\n",
    "    new_var = new_var + ii * 10\n",
    "\n",
    "print ('Example 2', new_var)\n",
    "\n",
    "new_var = 10\n",
    "for ii in range(3):\n",
    "    new_var += ii * 10 # This is equivalent to Example 2\n",
    "\n",
    "print ('Example 3', new_var)"
   ]
  },
  {
   "cell_type": "markdown",
   "id": "e11eeb21",
   "metadata": {},
   "source": [
    "in addition, we can change lists that we defined before.\n",
    "\n",
    "To add a new value to a list, we can use 'append'\n"
   ]
  },
  {
   "cell_type": "code",
   "execution_count": 24,
   "id": "c45efee5",
   "metadata": {},
   "outputs": [
    {
     "name": "stdout",
     "output_type": "stream",
     "text": [
      "[0, 1, 2]\n",
      "3\n"
     ]
    }
   ],
   "source": [
    "new_list = [] # we start with an empty list\n",
    "for ii in range(3):\n",
    "    new_list.append(ii) # we append the value\n",
    "\n",
    "print (new_list)\n",
    "print (len(new_list)) # we can print the length og the list as well"
   ]
  },
  {
   "cell_type": "markdown",
   "id": "d034f3fb",
   "metadata": {},
   "source": [
    "### if condition\n",
    "\n",
    "Another important concept for programming is the if condition. It allows us to check if a certain condition is met and to execute certain code only if this is the case.\n",
    "\n",
    "The definition of an if-condition is again concluded with a colon and the code to execute if the condition is true is indented (again, we use four spaces)\n",
    "\n",
    "```python\n",
    "if condition:\n",
    "    {code to execute}\n",
    "```\n",
    "\n",
    "Going back to the example above - we now want to run the for loop longer, but we only want to print the timesteps if they meet certain conditions. Here you will notice that we now have to levels of intendation. One for the for loop and one for the if-condition.\n",
    "\n",
    "Feel free to play around with the cell below, but first try to understand each of the four conditions\n"
   ]
  },
  {
   "cell_type": "code",
   "execution_count": 4,
   "id": "bfef0a70",
   "metadata": {
    "scrolled": false
   },
   "outputs": [
    {
     "name": "stdout",
     "output_type": "stream",
     "text": [
      "Test condition 1\n",
      "20\n",
      "Test condition 2\n",
      "0\n",
      "10\n",
      "20\n",
      "30\n",
      "Test condition 1\n",
      "36\n",
      "37\n",
      "38\n",
      "39\n",
      "Test condition 1\n",
      "0\n",
      "1\n",
      "38\n",
      "39\n"
     ]
    }
   ],
   "source": [
    "print ('Test condition 1')\n",
    "for step in range(40):\n",
    "    if step == 20:\n",
    "        print(step)\n",
    "        \n",
    "print ('Test condition 2')\n",
    "for step in range(40):\n",
    "    if step %10 == 0:\n",
    "        print(step)\n",
    "        \n",
    "print ('Test condition 3')\n",
    "for step in range(40):\n",
    "    if step > 35:\n",
    "        print(step)\n",
    "        \n",
    "print ('Test condition 4')\n",
    "for step in range(40):\n",
    "    if step <= 1 or step >= 38:\n",
    "        print(step)"
   ]
  },
  {
   "cell_type": "markdown",
   "id": "ca207041",
   "metadata": {},
   "source": [
    "##### Excercise"
   ]
  },
  {
   "cell_type": "code",
   "execution_count": 23,
   "id": "381a6e6e",
   "metadata": {},
   "outputs": [
    {
     "data": {
      "text/plain": [
       "Ellipsis"
      ]
     },
     "execution_count": 23,
     "metadata": {},
     "output_type": "execute_result"
    }
   ],
   "source": [
    "'''\n",
    " Excercicse 2: We now want to combine all the learned concepts into a small task\n",
    " \n",
    " 1) Implement a for loop that goes from 0 to 50\n",
    " 2) within this for loop we want to print the number for all values that are divisible by 10\n",
    " 3) When the loop is finished, print how often we printed a number\n",
    " \n",
    " '''\n",
    "\n",
    "# put your solution here\n",
    "...\n",
    "    "
   ]
  },
  {
   "cell_type": "markdown",
   "id": "dd51b508",
   "metadata": {},
   "source": [
    "[Click here for the solution](https://github.com/comp-neural-circuits/intro-to-comp-neuro/blob/dev/notebooks/Exc_1/solutions/solution_2.py)"
   ]
  },
  {
   "cell_type": "markdown",
   "id": "d4227a18",
   "metadata": {},
   "source": [
    "## Functions\n",
    "\n",
    "Now we introduce one last concept before we arrive at LIF implentation - Functions. We already encountered a function before: \n",
    "```python \n",
    "print()\n",
    "```\n",
    "\n",
    "Now we want to write our own. In general, a function is able to receive variables, perform an operation and then return variables.\n",
    "\n",
    "For example:\n",
    "```python\n",
    "def example_function (a):\n",
    "    print (a)\n",
    "    b = a + 5\n",
    "    return b\n",
    "```\n",
    "\n",
    "The function we define here takes a variable ```a```, prints it, adds 5 and returns the calcluated value. \n",
    "Let's try to use this function"
   ]
  },
  {
   "cell_type": "code",
   "execution_count": 3,
   "id": "8f5e02bd",
   "metadata": {},
   "outputs": [
    {
     "name": "stdout",
     "output_type": "stream",
     "text": [
      "7\n",
      "12\n"
     ]
    }
   ],
   "source": [
    "def example_function (a):\n",
    "    print (a)\n",
    "    b = a + 5\n",
    "    return b\n",
    "\n",
    "returned_value = example_function(a = 7)\n",
    "print (returned_value)"
   ]
  },
  {
   "cell_type": "code",
   "execution_count": 27,
   "id": "fa7b2e3b",
   "metadata": {},
   "outputs": [
    {
     "name": "stdout",
     "output_type": "stream",
     "text": [
      "12\n"
     ]
    }
   ],
   "source": [
    "'''\n",
    " We can also have multiple arguments for a function\n",
    "'''\n",
    "def add_function (a,b):\n",
    "    return a + b\n",
    "\n",
    "c = add_function(7,5)\n",
    "print (c)"
   ]
  },
  {
   "cell_type": "markdown",
   "id": "f0816ef6",
   "metadata": {},
   "source": [
    "Functions are great because they allow you to structure your code. Especially, if you write a function once, you can re-use it evrerywhere else. \n",
    "\n",
    "Since there are many functions that people re-use all the time, python has so called <i>libraries</i> that provide pre-written functions so that they don't have to be re-written every time. One important library for us will be <i>numpy</i>. \n",
    "\n",
    "To use a library we need to import it.\n",
    "``` python\n",
    "import numpy\n",
    "```\n",
    "\n",
    "However, for numpy it is usually done like this:\n",
    "```python\n",
    "import numpy as np\n",
    "``` \n",
    "so that when we want to call a function from the numpy library, we can write\n",
    "```python\n",
    "np.function_we_want_to_use()\n",
    "```   \n",
    "\n",
    "Numpy provides a variety of mathematical functions and also variables, but it is much more powerful than that as we will see later. For now, we look at a few examples:"
   ]
  },
  {
   "cell_type": "code",
   "execution_count": 20,
   "id": "32135d33",
   "metadata": {},
   "outputs": [
    {
     "name": "stdout",
     "output_type": "stream",
     "text": [
      "0.9906073556948704\n",
      "3.141592653589793\n",
      "1.0\n",
      "2.718281828459045\n"
     ]
    }
   ],
   "source": [
    "'''\n",
    "    Example numpy functions and variables\n",
    "'''\n",
    "import numpy as np\n",
    "\n",
    "print (np.sin(14))\n",
    "print (np.pi)\n",
    "print (np.cos(12*np.pi))\n",
    "print (np.e)"
   ]
  },
  {
   "cell_type": "markdown",
   "id": "818cbd8c",
   "metadata": {},
   "source": [
    "## Include the ideas on integration of a differential equation\n",
    "\n",
    "TODO\n",
    "\n",
    "Maybe with the idea of a moving object? \n",
    "\n",
    "Also differnent methods, Runga-Kutta vs exponential euler, vs Euler"
   ]
  },
  {
   "cell_type": "markdown",
   "id": "20d9a6a8",
   "metadata": {},
   "source": [
    "## Include plotting examples\n",
    "\n",
    "TODO\n",
    "\n",
    "Make nice functions that they can use later on again"
   ]
  },
  {
   "cell_type": "code",
   "execution_count": null,
   "id": "8f482e81",
   "metadata": {},
   "outputs": [],
   "source": []
  }
 ],
 "metadata": {
  "jupytext": {
   "formats": "ipynb,py"
  },
  "kernelspec": {
   "display_name": "intro-to-comp-neuro",
   "language": "python",
   "name": "intro-to-comp-neuro"
  },
  "language_info": {
   "codemirror_mode": {
    "name": "ipython",
    "version": 3
   },
   "file_extension": ".py",
   "mimetype": "text/x-python",
   "name": "python",
   "nbconvert_exporter": "python",
   "pygments_lexer": "ipython3",
   "version": "3.9.0"
  }
 },
 "nbformat": 4,
 "nbformat_minor": 5
}
