{
 "cells": [
  {
   "cell_type": "markdown",
   "id": "4d2e5a50",
   "metadata": {},
   "source": [
    "# Section 1 - The leaky-integrate and fire (LIF) model and python basics"
   ]
  },
  {
   "cell_type": "markdown",
   "id": "59dd4ea8",
   "metadata": {},
   "source": [
    "## Section 1.1. --- -\n",
    "\n",
    "In order to write programs, we need a few basics: \n",
    "\n",
    "We will program our scripts in python, a very versatile and widely used programming language. \n",
    "To execute the written programs we need a <i>python interpreter</i>. Google colab allows us to run an instance in the cloud, without the need to install anything locally on the computer. \n",
    "\n",
    "\n"
   ]
  },
  {
   "cell_type": "markdown",
   "id": "32fda41e",
   "metadata": {},
   "source": [
    "While learning the basics of python, we want to look at an example model taught in the lecture. The leaky integrate and fire (LIF) model. \n",
    "<div>\n",
    "<img src=\"https://github.com/comp-neural-circuits/intro-to-comp-neuro/raw/dev/imgs/neuron_to_circuit.png\" width=\"750\"/>\n",
    "</div>\n",
    "\n",
    "From the lecture we know that we can describe the change of the membrane potential with the following equation:\n",
    "\n",
    "\\begin{equation}\n",
    "\\tau_m\\,\\frac{dV}{dt} = - V + E_{L} + R_m\\,I_e\n",
    "\\end{equation}\n",
    "\n",
    "We ignore the injected external current for now ($I_e = 0$) which means the equation simplifies to \n",
    "\\begin{equation}\n",
    "\\tau_m\\,\\frac{dV}{dt} = - V + E_{L} \\qquad (1)\n",
    "\\end{equation}\n",
    "\n",
    "in this equation we have three parameters, let's define them. "
   ]
  },
  {
   "cell_type": "markdown",
   "id": "9c8292fd",
   "metadata": {},
   "source": [
    "#### Task - Execute the cell below\n",
    "When executing a cell, the python interpreter will run the code we provide.\n",
    "\n",
    "When you select the cell and either press 'Run' at the top of the page or press 'shift+Enter' on the keyboard."
   ]
  },
  {
   "cell_type": "code",
   "execution_count": 2,
   "id": "ee44d3e9",
   "metadata": {},
   "outputs": [
    {
     "name": "stdout",
     "output_type": "stream",
     "text": [
      "20 -50 -60\n"
     ]
    }
   ],
   "source": [
    "tau_m = 20 # in ms\n",
    "v = -50 # in mV\n",
    "el = -60 # in mV\n",
    "print (tau_m, v, el)"
   ]
  },
  {
   "cell_type": "markdown",
   "id": "73322994",
   "metadata": {},
   "source": [
    "#### What happend\n",
    "1) We assigned values (on the right side of the equal sign) to three distinct variables (on the left of the equal sign).\n",
    "\n",
    "2) In addition, we can comment the code by using the # symbol. Everything in the same line behind this symbol will be ignored when the code is executed.\n",
    "\n",
    "3) At the end, we print the values that we just defined"
   ]
  },
  {
   "cell_type": "markdown",
   "id": "fc1bd6fb",
   "metadata": {},
   "source": [
    "Following equation (1), we can now calculate the change in the membrane voltage per time-step. "
   ]
  },
  {
   "cell_type": "code",
   "execution_count": 35,
   "id": "2e679402",
   "metadata": {},
   "outputs": [
    {
     "name": "stdout",
     "output_type": "stream",
     "text": [
      "-0.5\n"
     ]
    }
   ],
   "source": [
    "dv_dt = (-v + el)/tau_m\n",
    "print (dv_dt)"
   ]
  },
  {
   "cell_type": "markdown",
   "id": "82e87df1",
   "metadata": {},
   "source": [
    "This means the membrane potential changes by -0.5mV per ms if the membrane potential is at -50 mV. \n",
    "\n",
    "After applying this change (adding -0.5mV/ms * 1ms to -50mV), we can ask again what the change is, then apply this again and so on"
   ]
  },
  {
   "cell_type": "code",
   "execution_count": 39,
   "id": "33aaacce",
   "metadata": {},
   "outputs": [
    {
     "name": "stdout",
     "output_type": "stream",
     "text": [
      "dv/dt -0.5\n",
      "v -50.5\n",
      "dv/dt -0.475\n",
      "v -50.975\n"
     ]
    }
   ],
   "source": [
    "dt = 1 # in ms\n",
    "v = -50 # in mV\n",
    "dv_dt = (-v + el)/tau_m\n",
    "print ('dv/dt', dv_dt)\n",
    "v = v + dv_dt * dt\n",
    "print ('v', v)\n",
    "dv_dt = (-v + el)/tau_m\n",
    "print ('dv/dt', dv_dt)\n",
    "v = v + dv_dt * dt\n",
    "print ('v', v)"
   ]
  },
  {
   "cell_type": "markdown",
   "id": "6f09c3b1",
   "metadata": {},
   "source": [
    "#### What happend\n",
    "\n",
    "1) We defined a new variable\n",
    "\n",
    "2) We made sure that our variable defined above (v) is still at -50\n",
    "\n",
    "3) calculating the instantaneous change in v\n",
    "\n",
    "4) printing the calculated value, while also printing what the value is\n",
    "\n",
    "5) setting v equal to its old value plus the change it experiences multiplied with our chosen timestep\n",
    "\n",
    "6) printing v (and printing that we print v)\n",
    "\n",
    "7) we repeat the steps 3) to 6)\n",
    "\n",
    "Now thinking about even more repeats of these steps leads us to a very fundamental concept of programming: "
   ]
  },
  {
   "cell_type": "markdown",
   "id": "8a0ffd05",
   "metadata": {},
   "source": [
    "## Loops\n",
    "More specifically, the for-loop.\n",
    "Loops allow us to execute the same code multiple times. We can re-write the above code with a for-loop."
   ]
  },
  {
   "cell_type": "markdown",
   "id": "b14c10a5",
   "metadata": {},
   "source": [
    "#### Task - Run the cell below, then change the number of repetitions\n",
    "\n",
    "Initially we execute the code block from above (2 times). You can change how often it will be repeated by changing the number in the 'range' function. Try it out."
   ]
  },
  {
   "cell_type": "code",
   "execution_count": 21,
   "id": "df9517db",
   "metadata": {},
   "outputs": [
    {
     "name": "stdout",
     "output_type": "stream",
     "text": [
      "dv/dt -0.5\n",
      "v -50.5\n",
      "dv/dt -0.475\n",
      "v -50.975\n"
     ]
    }
   ],
   "source": [
    "dt = 1 # in ms\n",
    "v = -50 # in mV\n",
    "\n",
    "for ii in range(2):\n",
    "    dv_dt = (-v + el)/tau_m\n",
    "    print ('dv/dt', dv_dt)\n",
    "    v = v + dv_dt * dt\n",
    "    print ('v', v)"
   ]
  },
  {
   "cell_type": "markdown",
   "id": "45ae7f86",
   "metadata": {},
   "source": [
    "#### What happend\n",
    "\n",
    "You just executed a for-loop. The most simple syntax of a for-loop is the following:\n",
    "```python\n",
    "    for iteration_variable in values_to_iterate_through:\n",
    "        # do something\n",
    "```\n",
    "\n",
    "It is important to note that we see an indentation after we defined our for-loop (and ended the line with a colon)\n",
    "\n",
    "Everything that is indented will be executed within the loop. \n",
    "You can try it out above by removing the indent for the last line. v will then be printed only when the loop is done.\n",
    "\n",
    "Ususally, people use four or two spaces as the indentation level (or pressing TAB).\n"
   ]
  },
  {
   "cell_type": "markdown",
   "id": "0a815efe",
   "metadata": {},
   "source": [
    "We now use the for loop to run our code from above many times and look at the final value of v"
   ]
  },
  {
   "cell_type": "markdown",
   "id": "057296c9",
   "metadata": {},
   "source": [
    "#### Task - Change the starting values\n",
    "\n",
    "When executing the cell below, you can now change the starting value of v. \n",
    "\n",
    "However, you should see that (given we have enough repetitions), your final v should always be very close to the same value. Can you explain why this is correct?"
   ]
  },
  {
   "cell_type": "code",
   "execution_count": 27,
   "id": "668c3b4b",
   "metadata": {},
   "outputs": [
    {
     "name": "stdout",
     "output_type": "stream",
     "text": [
      "final v -59.99999999999993 -3.552713678800501e-15\n"
     ]
    }
   ],
   "source": [
    "v = -55 # in mV\n",
    "\n",
    "for ii in range(1000):\n",
    "    dv_dt = (-v + el)/tau_m\n",
    "    v = v + dv_dt * dt\n",
    "\n",
    "print ('final v', v)"
   ]
  },
  {
   "cell_type": "markdown",
   "id": "3b3b2219",
   "metadata": {},
   "source": [
    "Until now we defined how v should evolve over time and we can see what the final v is. Ultimately, we are also interested in the values of v between the beginning and the end. Therefore, we want to save the values of v. This leads us to another variable type.\n",
    "\n",
    "## Lists\n",
    "\n",
    "Lists can store multiple varibales of the same, or even of different types. A list is defined like this\n",
    "```python\n",
    "    example_list = [1,2,3]\n",
    "    empty_list = []\n",
    "```\n",
    "We can append elements to this list with \n",
    "```python\n",
    "    empty_list.append(1)\n",
    "```"
   ]
  },
  {
   "cell_type": "markdown",
   "id": "0f4f468f",
   "metadata": {},
   "source": [
    "#### Task - save all intermediate values of v\n",
    "\n",
    "can you re-write the code from above, so that we do not only print the final v but a list of all v's after the loop has finsihed?"
   ]
  },
  {
   "cell_type": "code",
   "execution_count": 32,
   "id": "f6f6e3ff",
   "metadata": {},
   "outputs": [
    {
     "name": "stdout",
     "output_type": "stream",
     "text": [
      "[-55.25, -55.4875, -55.713125, -55.927468749999996, -56.131095312499994, -56.32454054687499, -56.50831351953124, -56.68289784355468, -56.848752951376945, -57.006315303808094]\n"
     ]
    }
   ],
   "source": [
    "v = -55 # in mV\n",
    "v_list = []\n",
    "\n",
    "## TODO: move everything below into a solution file\n",
    "for ii in range(10):\n",
    "    dv_dt = (-v + el)/tau_m\n",
    "    v = v + dv_dt * dt\n",
    "    v_list.append(v) \n",
    "\n",
    "print (v_list)"
   ]
  },
  {
   "cell_type": "markdown",
   "id": "ee08b416",
   "metadata": {},
   "source": [
    "We now have run a simple simulation and saved the values. To get a better understanding of what is happening, we want to visualize the data. "
   ]
  },
  {
   "cell_type": "markdown",
   "id": "bc87bcf4",
   "metadata": {},
   "source": [
    "## Plots\n",
    "\n",
    "To visualize with python, we make use of a library. Libraries provide pre-written functions, so that we don't have to rewrite them. To import a library we have to add the following line (usually always at the beginning of the code)\n",
    "```python\n",
    "    import matplotlib.pyplot as plt\n",
    "```\n",
    "with this line we can import the library matplotlib.pyplot and we can call it from then on with the the name plt "
   ]
  },
  {
   "cell_type": "code",
   "execution_count": 48,
   "id": "5729fc1e",
   "metadata": {},
   "outputs": [
    {
     "data": {
      "image/png": "[encoded data removed]",
      "text/plain": [
       "<Figure size 432x288 with 1 Axes>"
      ]
     },
     "metadata": {
      "needs_background": "light"
     },
     "output_type": "display_data"
    }
   ],
   "source": [
    "import matplotlib.pyplot as plt\n",
    "\n",
    "plt.figure()\n",
    "x = [0,1]\n",
    "y = [1,2]\n",
    "plt.plot(x,y)\n",
    "plt.xlabel('X-axis')\n",
    "plt.ylabel('Y-axis')\n",
    "plt.show()"
   ]
  }
 ],
 "metadata": {
  "jupytext": {
   "formats": "ipynb,py"
  },
  "kernelspec": {
   "display_name": "intro-to-comp-neuro",
   "language": "python",
   "name": "intro-to-comp-neuro"
  },
  "language_info": {
   "codemirror_mode": {
    "name": "ipython",
    "version": 3
   },
   "file_extension": ".py",
   "mimetype": "text/x-python",
   "name": "python",
   "nbconvert_exporter": "python",
   "pygments_lexer": "ipython3",
   "version": "3.9.0"
  }
 },
 "nbformat": 4,
 "nbformat_minor": 5
}
