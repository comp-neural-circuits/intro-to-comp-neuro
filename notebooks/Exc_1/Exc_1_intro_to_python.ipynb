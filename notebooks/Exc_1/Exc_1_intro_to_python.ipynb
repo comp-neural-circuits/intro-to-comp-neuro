{
 "cells": [
  {
   "cell_type": "markdown",
   "id": "f6aa3ab1",
   "metadata": {},
   "source": [
    "## Section 1 - The leaky-integrate and fire (LIF) model and python basics"
   ]
  },
  {
   "cell_type": "markdown",
   "id": "ad9eff87",
   "metadata": {},
   "source": [
    "### Section 1.1: Python basics\n",
    "\n",
    "In order to write programs, we need a few basics: \n",
    "\n",
    "We will program our scripts in python, a very versatile and widely used programming language. \n",
    "To execute the written programs we need a <i>python interpreter</i>. Google colab allows us to run an instance in the cloud, without the need to install anything locally on the computer. "
   ]
  },
  {
   "cell_type": "markdown",
   "id": "90940af7",
   "metadata": {},
   "source": [
    "#### Print\n",
    "We will start with the infamous 'hello world' example: \n",
    "\n",
    "You can call the interpreter to execute the code within each cell of this notebook by pressing 'shift+Enter' on your keyboard. \n",
    "\n",
    "Try this with the next cell to print 'Hello World':"
   ]
  },
  {
   "cell_type": "code",
   "execution_count": 19,
   "id": "07ecf733",
   "metadata": {},
   "outputs": [
    {
     "name": "stdout",
     "output_type": "stream",
     "text": [
      "Hello World\n"
     ]
    }
   ],
   "source": [
    "print ('Hello World')"
   ]
  },
  {
   "cell_type": "markdown",
   "id": "5a8acc62",
   "metadata": {},
   "source": [
    "What happend? \n",
    "We called a python function ```print``` \n",
    "This function takes an argument which we presented within the brackets, in this case ```'Hello World'```.\n",
    "The argument is then printed out."
   ]
  },
  {
   "cell_type": "markdown",
   "id": "e051dbfa",
   "metadata": {},
   "source": [
    "#### Variables and comments\n",
    "You might notice the single quotes (') around Hello World, they define a data type in python that is called <i>String</i>\n",
    "\n",
    "Instead of printing it directly, we now want to store the string in a variable 'words' and then print this variable. \n",
    "Try it by executing the following cell:"
   ]
  },
  {
   "cell_type": "code",
   "execution_count": 24,
   "id": "433c365d",
   "metadata": {},
   "outputs": [
    {
     "name": "stdout",
     "output_type": "stream",
     "text": [
      "Hello World\n"
     ]
    }
   ],
   "source": [
    "words = 'Hello World'\n",
    "print (words)"
   ]
  },
  {
   "cell_type": "markdown",
   "id": "951d263d",
   "metadata": {},
   "source": [
    "Great. There are two more data types we need to know:  <i>int</i> and <i>float</i>\n",
    "\n",
    "<i>int</i> is used for an integer, <i>float</i> is used for a float point variable.\n",
    "``` python\n",
    "example_integer = 5\n",
    "example_float = 1.234\n",
    "```\n",
    "\n",
    "once defined we can re-use the variables later on, as in the example above with the print function. When defining variables, it is useful to follow conventions.\n",
    "One general guideline that is used is [PEP8](https://peps.python.org/pep-0008/). \n",
    "\n",
    "For example it is common for variable names to use lowercase letters and (if necessary) underscores between words.\n",
    "\n",
    "Another concept of programming is the comment:\n",
    "\n",
    "``` python\n",
    "# <- everything in the same line after this symbol is not evaluated by the interpreter\n",
    "```\n",
    "\n",
    "We can also add comments that span multiple lines (we start and end those with three quotation marks):\n",
    "``` python\n",
    "\"\"\" \n",
    "    This is a nice comment that is so long\n",
    "    it needs multiple lines\n",
    "\"\"\"\n",
    "```\n",
    "\n",
    "Comments can be used to describe parts of the code or give additional information.\n",
    "\n",
    "Now we want to put all of this together. Follow the instructions given in the comments in the cell below. When you are done, execute the cell:"
   ]
  },
  {
   "cell_type": "code",
   "execution_count": null,
   "id": "1fcf6a17",
   "metadata": {},
   "outputs": [],
   "source": [
    "\"\"\"\n",
    "In this cell we want to add two numbers and print the result.\n",
    "\"\"\"\n",
    "\n",
    "# Define the first variable\n",
    "\n",
    "# TODO - complete excercise example\n",
    "\n"
   ]
  },
  {
   "cell_type": "markdown",
   "id": "77ef3793",
   "metadata": {},
   "source": [
    "### Section 1.2 The LIF model\n",
    "\n",
    "Great!\n",
    "\n",
    "Now we continue with more advanced python concepts while implementing the leaky-integrate and fire model:\n",
    "\n",
    "As a reminder, here is the differential equation that describes the membrane potential of our neuron:\n",
    "\n",
    "\\begin{align}\n",
    "\\tau_m\\,\\frac{d}{dt}\\,V(t) &= E_{L} - V(t) + R\\,I(t) &\\text{if }\\quad V(t) \\leq V_{th} \\\\ \\\\\n",
    "V(t) &= V_{reset} &\\text{otherwise}\n",
    "\\end{align}\n",
    "\n",
    "where $V(t)$ is the membrane potential, $\\tau_m$ is the membrane time constant, $E_{L}$ is the leak potential, $R$ is the membrane resistance, $I(t)$ is the synaptic input current, $V_{th}$ is the firing threshold, and $V_{reset}$ is the reset voltage. We can also write $V_m$ for membrane potential, which is more convenient for plot labels.\n",
    "\n",
    "The membrane equation describes the time evolution of membrane potential $V(t)$ in response to synaptic input and leaking of charge across the cell membrane. This is an *ordinary differential equation (ODE)*.\n"
   ]
  },
  {
   "cell_type": "markdown",
   "id": "502a717e",
   "metadata": {},
   "source": [
    "#### Defining Parameters \n",
    "\n",
    "We first define the parameters we need in order to simulate our neuron model. In order to define and print the parameters below, you need to 'comment out' the code first before you run the cell"
   ]
  },
  {
   "cell_type": "code",
   "execution_count": 28,
   "id": "48e37412",
   "metadata": {},
   "outputs": [],
   "source": [
    "# t_max = 150e-3   # second\n",
    "# dt = 1e-3        # second\n",
    "# tau = 20e-3      # second\n",
    "# el = -60e-3      # milivolt\n",
    "# vr = -70e-3      # milivolt\n",
    "# vth = -50e-3     # milivolt\n",
    "# r = 100e6        # ohm\n",
    "# i_mean = 25e-11  # ampere\n",
    "\n",
    "# print(t_max, dt, tau, el, vr, vth, r, i_mean)"
   ]
  },
  {
   "cell_type": "markdown",
   "id": "f2dfb3d0",
   "metadata": {},
   "source": [
    "After executing the cell above, you should see all defined parameters printed. You might have noted that we use variable names that correspond to the names in the math notation. We also use comments behing the variables, to indicate what unit we used for those numbers."
   ]
  },
  {
   "cell_type": "markdown",
   "id": "d42aa14b",
   "metadata": {},
   "source": [
    "#### For Loops \n",
    "\n",
    "A very versitale concept in programming is the for loop. It allows us to execute the same code multiple times, often while using different values for our parameters. \n",
    "\n",
    "Let's assume we want to print three time steps (0, 1 and 2).\n",
    "\n",
    "In the following cell we see four distinc solutions to this problem, all with the same outcome.\n"
   ]
  },
  {
   "cell_type": "code",
   "execution_count": 31,
   "id": "e7a1f6fc",
   "metadata": {},
   "outputs": [
    {
     "name": "stdout",
     "output_type": "stream",
     "text": [
      "Option A\n",
      "0\n",
      "1\n",
      "2\n",
      "Option B\n",
      "0\n",
      "1\n",
      "2\n",
      "Option C\n",
      "0\n",
      "1\n",
      "2\n",
      "Option D\n",
      "0\n",
      "1\n",
      "2\n"
     ]
    }
   ],
   "source": [
    "# one option is to print every timestep\n",
    "print ('Option A')\n",
    "print (0)\n",
    "print (1)\n",
    "print (2)\n",
    "# However, you can imagine this becomes very tideous for many time steps\n",
    "\n",
    "# another option is the for loop:\n",
    "print ('Option B')\n",
    "for step in [0,1,2]:\n",
    "    print (step)\n",
    "    \n",
    "    \n",
    "# We can also use pythons 'range' function with the same result\n",
    "print ('Option C')\n",
    "start = 0\n",
    "end = 3\n",
    "stepsize = 1\n",
    "for step in range(start, end, stepsize):\n",
    "    print(step)\n",
    "\n",
    "\n",
    "# The function also has default parameters\n",
    "# if not provided, start is assumed to be 0 and stepsize to be 1\n",
    "# therefore, we can also write\n",
    "print ('Option D')\n",
    "for step in range(3):\n",
    "    print(step)\n"
   ]
  },
  {
   "cell_type": "markdown",
   "id": "d66e2879",
   "metadata": {},
   "source": [
    "It is important to note the intendation that we used for the for loop. \n",
    "\n",
    "Python uses intendation to structure the code. The definition of the for loop ends with a colon and everything that belongs in the loop needs to be written below with the same intendation. \n",
    "\n",
    "Often, the intendation is four spaces."
   ]
  },
  {
   "cell_type": "code",
   "execution_count": 33,
   "id": "29ed8c20",
   "metadata": {
    "lines_to_next_cell": 0
   },
   "outputs": [],
   "source": [
    "import numpy as np\n",
    "import matplotlib.pyplot as plt\n",
    "\n",
    "# Settings for the figures\n",
    "plt.style.use(plt.style.available[20])\n",
    "plt.style.use(\"https://github.com/comp-neural-circuits/intro-to-comp-neuro/raw/dev/plots_style.txt\")"
   ]
  },
  {
   "cell_type": "code",
   "execution_count": 36,
   "id": "f9ec2079",
   "metadata": {},
   "outputs": [
    {
     "data": {
      "text/plain": [
       "[Text(0.5, 0, 'X Label'), Text(0, 0.5, 'Y Label'), Text(0.5, 1.0, 'Title')]"
      ]
     },
     "execution_count": 36,
     "metadata": {},
     "output_type": "execute_result"
    },
    {
     "name": "stderr",
     "output_type": "stream",
     "text": [
      "findfont: Font family ['sans-serif'] not found. Falling back to DejaVu Sans.\n",
      "findfont: Generic family 'sans-serif' not found because none of the following families were found: ['DejaVu Sans']\n"
     ]
    },
    {
     "data": {
      "image/png": "[encoded data removed]",
      "text/plain": [
       "<Figure size 576x432 with 1 Axes>"
      ]
     },
     "metadata": {
      "needs_background": "light"
     },
     "output_type": "display_data"
    }
   ],
   "source": [
    "fig, ax = plt.subplots()\n",
    "ax.plot([0,1],[0.2,0.8])\n",
    "ax.plot([0,1],[-0.2,-0.8])\n",
    "ax.set(\n",
    "    xlabel='X Label',\n",
    "    ylabel='Y Label',\n",
    "    title='Title')"
   ]
  },
  {
   "cell_type": "code",
   "execution_count": null,
   "id": "30487593",
   "metadata": {},
   "outputs": [],
   "source": []
  }
 ],
 "metadata": {
  "jupytext": {
   "formats": "ipynb,py"
  },
  "kernelspec": {
   "display_name": "intro-to-comp-neuro",
   "language": "python",
   "name": "intro-to-comp-neuro"
  },
  "language_info": {
   "codemirror_mode": {
    "name": "ipython",
    "version": 3
   },
   "file_extension": ".py",
   "mimetype": "text/x-python",
   "name": "python",
   "nbconvert_exporter": "python",
   "pygments_lexer": "ipython3",
   "version": "3.9.0"
  }
 },
 "nbformat": 4,
 "nbformat_minor": 5
}
