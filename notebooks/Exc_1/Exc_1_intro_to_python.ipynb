{
 "cells": [
  {
   "cell_type": "markdown",
   "id": "4d2e5a50",
   "metadata": {},
   "source": [
    "# Section 1 - The leaky-integrate and fire (LIF) model and python basics"
   ]
  },
  {
   "cell_type": "markdown",
   "id": "6f44905d",
   "metadata": {},
   "source": [
    "## Section 1.1: Python basics\n",
    "\n",
    "In order to write programs, we need a few basics: \n",
    "\n",
    "We will program our scripts in python, a very versatile and widely used programming language. \n",
    "To execute the written programs we need a <i>python interpreter</i>. Google colab allows us to run an instance in the cloud, without the need to install anything locally on the computer. "
   ]
  },
  {
   "cell_type": "markdown",
   "id": "7d393373",
   "metadata": {},
   "source": [
    "### Print\n",
    "We will start with the infamous 'hello world' example: \n",
    "\n",
    "You can call the interpreter to execute the code within each cell of this notebook by pressing 'shift+Enter' on your keyboard. \n",
    "\n",
    "Try this with the next cell to print 'Hello World':"
   ]
  },
  {
   "cell_type": "code",
   "execution_count": 1,
   "id": "00fd4fbc",
   "metadata": {},
   "outputs": [
    {
     "name": "stdout",
     "output_type": "stream",
     "text": [
      "Hello World\n"
     ]
    }
   ],
   "source": [
    "print ('Hello World')"
   ]
  },
  {
   "cell_type": "markdown",
   "id": "7022ebeb",
   "metadata": {},
   "source": [
    "What happend? \n",
    "We called a python function ```print``` \n",
    "This function takes an argument which we presented within the brackets, in this case ```'Hello World'```.\n",
    "The argument is then printed out."
   ]
  },
  {
   "cell_type": "markdown",
   "id": "5eac5787",
   "metadata": {},
   "source": [
    "### Variables and comments\n",
    "You might notice the single quotes (') around Hello World, they define a data type in python that is called <i>String</i>\n",
    "\n",
    "Instead of printing it directly, we now want to store the string in a variable 'words' and then print this variable. \n",
    "Try it by executing the following cell:"
   ]
  },
  {
   "cell_type": "code",
   "execution_count": 2,
   "id": "57c09ff6",
   "metadata": {},
   "outputs": [
    {
     "name": "stdout",
     "output_type": "stream",
     "text": [
      "Hello World\n"
     ]
    }
   ],
   "source": [
    "words = 'Hello World'\n",
    "print (words)"
   ]
  },
  {
   "cell_type": "markdown",
   "id": "53a6507c",
   "metadata": {},
   "source": [
    "Great. There are two more data types we need to know:  <i>int</i> and <i>float</i>\n",
    "\n",
    "<i>int</i> is used for an integer, \n",
    "<i>float</i> is used for a float point variable,\n",
    "<i>bool</i> is used for a boolean, to indicate True, or False - and <i>lists</i> are used for lists of variables that can consist of the other types:\n",
    "``` python\n",
    "example_integer = 5\n",
    "example_float = 1.234\n",
    "example_boolean = True\n",
    "example_list_1 = [1,2,3,5]\n",
    "example_list_2 = [1.2, True, False, 4, 'hello']\n",
    "```\n",
    "\n",
    "You can see that in python, we implicitly define the variable type simply by assigning a value to the variable.\n",
    "\n",
    "once defined we can re-use the variables later on, as in the example above with the print function. When defining variables, it is useful to be consistent throughout your code and to follow guidelines.\n",
    "A general guideline is [PEP8](https://peps.python.org/pep-0008/). \n",
    "\n",
    "For example it is common for variable names to use lowercase letters and (if necessary) underscores between words.\n",
    "\n",
    "Another concept of programming is the comment:\n",
    "\n",
    "``` python\n",
    "# <- everything in the same line after this symbol is not evaluated by the interpreter\n",
    "```\n",
    "\n",
    "We can also add comments that span multiple lines (we start and end those with three quotation marks):\n",
    "``` python\n",
    "\"\"\" \n",
    "    This is a nice comment that is so long\n",
    "    it needs multiple lines\n",
    "\"\"\"\n",
    "```\n",
    "\n",
    "Comments can be used to describe parts of the code or give additional information.\n",
    "\n",
    "Now we want to put all of this together. Follow the instructions given in the comments in the cell below. When you are done, execute the cell:"
   ]
  },
  {
   "cell_type": "markdown",
   "id": "98bac129",
   "metadata": {},
   "source": [
    "#### Excercise \n",
    "\n",
    "<p style='color:#FF0000';> TODO </p>"
   ]
  },
  {
   "cell_type": "code",
   "execution_count": 2,
   "id": "1c76841e",
   "metadata": {
    "lines_to_end_of_cell_marker": 2
   },
   "outputs": [],
   "source": [
    "\"\"\"\n",
    "Excercise 1 : In this cell we want to add two numbers and print the result.\n",
    "\"\"\"\n",
    "\n",
    "# Define the first variable and assign the value 7\n",
    "first_var = 7\n",
    "# Now define the second value and assign the value 5\n",
    "second_var = 5\n",
    "\n",
    "# Now you can define a third variable and assign the sum of the two values to it\n",
    "final_var = first_var + second_var\n",
    "\n",
    "# And finally we print the number\n",
    "print (final_var)"
   ]
  },
  {
   "cell_type": "markdown",
   "id": "ff31cf9a",
   "metadata": {},
   "source": [
    "[Click here for the solution]("
   ]
  },
  {
   "cell_type": "markdown",
   "id": "f30ff159",
   "metadata": {},
   "source": [
    "### For Loops \n",
    "\n",
    "A very versitale concept in programming is the for loop. It allows us to execute the same code multiple times, often while using different values for our parameters. \n",
    "\n",
    "Let's assume we want to print three time steps (0, 1 and 2).\n",
    "\n",
    "In the following cell we see four distinc solutions to this problem, all with the same outcome.\n"
   ]
  },
  {
   "cell_type": "code",
   "execution_count": 4,
   "id": "760c033d",
   "metadata": {},
   "outputs": [
    {
     "name": "stdout",
     "output_type": "stream",
     "text": [
      "Option A\n",
      "0\n",
      "1\n",
      "2\n",
      "Option B\n",
      "0\n",
      "1\n",
      "2\n",
      "Option C\n",
      "0\n",
      "1\n",
      "2\n",
      "Option D\n",
      "0\n",
      "1\n",
      "2\n"
     ]
    }
   ],
   "source": [
    "# one option is to print every timestep\n",
    "print ('Option A')\n",
    "print (0)\n",
    "print (1)\n",
    "print (2)\n",
    "# However, you can imagine this becomes very tideous for many time steps\n",
    "\n",
    "# another option is the for loop:\n",
    "print ('Option B')\n",
    "for step in [0,1,2]:\n",
    "    print (step)\n",
    "    \n",
    "    \n",
    "# We can also use pythons 'range' function with the same result\n",
    "print ('Option C')\n",
    "start = 0\n",
    "end = 3\n",
    "stepsize = 1\n",
    "for step in range(start, end, stepsize):\n",
    "    print(step)\n",
    "\n",
    "\n",
    "# The function also has default parameters\n",
    "# if not provided, start is assumed to be 0 and stepsize to be 1\n",
    "# therefore, we can also write\n",
    "print ('Option D')\n",
    "for step in range(3):\n",
    "    print(step)\n"
   ]
  },
  {
   "cell_type": "markdown",
   "id": "fb3c162e",
   "metadata": {},
   "source": [
    "It is important to note the intendation that we used for the for loop. \n",
    "\n",
    "Python uses intendation to structure the code. The definition of the for loop ends with a colon and everything that belongs in the loop needs to be written below with (at least, as we see later) the same intendation.\n",
    "\n",
    "Often, the intendation is four spaces.\n",
    "\n",
    "```python\n",
    "for variable_name in range(range_length):\n",
    "    print (variable_name)\n",
    "```\n",
    "    "
   ]
  },
  {
   "cell_type": "markdown",
   "id": "d034f3fb",
   "metadata": {},
   "source": [
    "### if condition\n",
    "\n",
    "Another important concept for programming is the if condition. It allows us to check if a certain condition is met and to execute certain code only if this is the case.\n",
    "\n",
    "The definition of an if-condition is again concluded with a colon and the code to execute if the condition is true is indented (again, we use four spaces)\n",
    "\n",
    "```python\n",
    "if condition:\n",
    "    {code to execute}\n",
    "```\n",
    "\n",
    "Going back to the example above - we now want to run the for loop longer, but we only want to print the timesteps if they meet certain conditions\n",
    "\n"
   ]
  },
  {
   "cell_type": "code",
   "execution_count": 5,
   "id": "bfef0a70",
   "metadata": {
    "scrolled": true
   },
   "outputs": [
    {
     "name": "stdout",
     "output_type": "stream",
     "text": [
      "Test condition 1\n",
      "20\n",
      "Test condition 2\n",
      "0\n",
      "10\n",
      "20\n",
      "30\n",
      "Test condition 1\n",
      "36\n",
      "37\n",
      "38\n",
      "39\n",
      "Test condition 1\n",
      "0\n",
      "1\n",
      "38\n",
      "39\n"
     ]
    }
   ],
   "source": [
    "print ('Test condition 1')\n",
    "for step in range(40):\n",
    "    if step == 20:\n",
    "        print(step)\n",
    "        \n",
    "print ('Test condition 2')\n",
    "for step in range(40):\n",
    "    if step %10 == 0:\n",
    "        print(step)\n",
    "        \n",
    "print ('Test condition 1')\n",
    "for step in range(40):\n",
    "    if step > 35:\n",
    "        print(step)\n",
    "        \n",
    "print ('Test condition 1')\n",
    "for step in range(40):\n",
    "    if step <= 1 or step >= 38:\n",
    "        print(step)"
   ]
  },
  {
   "cell_type": "markdown",
   "id": "ca207041",
   "metadata": {},
   "source": [
    "##### Excercise  \n",
    "\n",
    "\n",
    "<p style='color:#FF0000';> TODO </p>\n",
    "\n",
    "They should run loops and print specific numbers"
   ]
  },
  {
   "cell_type": "code",
   "execution_count": 6,
   "id": "381a6e6e",
   "metadata": {},
   "outputs": [
    {
     "data": {
      "text/plain": [
       "'\\n\\n'"
      ]
     },
     "execution_count": 6,
     "metadata": {},
     "output_type": "execute_result"
    }
   ],
   "source": [
    "'''\n",
    " Excercicse: Here we want to \n",
    "'''"
   ]
  },
  {
   "cell_type": "markdown",
   "id": "71a43a16",
   "metadata": {},
   "source": [
    "## Functions\n",
    "\n",
    "We already know a function: \n",
    "```python \n",
    "print()\n",
    "```\n",
    "\n",
    "Now we want to write our own. In general, a function is able to receive variables, perform an operation and then return variables.\n",
    "\n",
    "For example:\n",
    "```python\n",
    "def example_function (a):\n",
    "    print (a)\n",
    "    b = a + 5\n",
    "    return b\n",
    "```\n",
    "\n",
    "The function we define here takes a variable ```a```, prints it, adds 5 and returns the calcluated value. \n",
    "Let's try to use this function"
   ]
  },
  {
   "cell_type": "code",
   "execution_count": 3,
   "id": "571225d9",
   "metadata": {},
   "outputs": [
    {
     "name": "stdout",
     "output_type": "stream",
     "text": [
      "7\n",
      "12\n"
     ]
    }
   ],
   "source": [
    "def example_function (a):\n",
    "    print (a)\n",
    "    b = a + 5\n",
    "    return b\n",
    "\n",
    "returned_value = example_function(a = 7)\n",
    "print (returned_value)"
   ]
  },
  {
   "cell_type": "markdown",
   "id": "a2b87af2",
   "metadata": {},
   "source": [
    "##### Excercise  \n",
    "\n",
    "\n",
    "<p style='color:#FF0000';> TODO </p>\n",
    "\n",
    "They should run loops and print specific numbers"
   ]
  },
  {
   "cell_type": "markdown",
   "id": "8e7e22fe",
   "metadata": {},
   "source": [
    "## Section 1.2 The LIF model\n",
    "\n",
    "Great!\n",
    "\n",
    "Now we continue with more advanced python concepts while implementing the leaky-integrate and fire model:\n",
    "\n",
    "As a reminder, here is the differential equation that describes the membrane potential of our neuron:\n",
    "\n",
    "\\begin{align}\n",
    "\\tau_m\\,\\frac{d}{dt}\\,V(t) &= E_{L} - V(t) + R\\,I(t) &\\text{if }\\quad V(t) \\leq V_{th} \\\\ \\\\\n",
    "V(t) &= V_{reset} &\\text{otherwise}\n",
    "\\end{align}\n",
    "\n",
    "where $V(t)$ is the membrane potential, $\\tau_m$ is the membrane time constant, $E_{L}$ is the leak potential, $R$ is the membrane resistance, $I(t)$ is the synaptic input current, $V_{th}$ is the firing threshold, and $V_{reset}$ is the reset voltage. We can also write $V_m$ for membrane potential, which is more convenient for plot labels.\n",
    "\n",
    "The membrane equation describes the time evolution of membrane potential $V(t)$ in response to synaptic input and leaking of charge across the cell membrane. This is an *ordinary differential equation (ODE)*.\n"
   ]
  },
  {
   "cell_type": "markdown",
   "id": "eca64ed9",
   "metadata": {},
   "source": [
    "### Defining Parameters \n",
    "\n",
    "We first define the parameters we need in order to simulate our neuron model. In order to define and print the parameters below, you need to 'comment out' the code first before you run the cell"
   ]
  },
  {
   "cell_type": "code",
   "execution_count": 7,
   "id": "5dccc352",
   "metadata": {},
   "outputs": [],
   "source": [
    "# t_max = 150e-3   # second\n",
    "# dt = 1e-3        # second\n",
    "# tau = 20e-3      # second\n",
    "# el = -60e-3      # milivolt\n",
    "# vr = -70e-3      # milivolt\n",
    "# vth = -50e-3     # milivolt\n",
    "# r = 100e6        # ohm\n",
    "# i_mean = 25e-11  # ampere\n",
    "\n",
    "# print(t_max, dt, tau, el, vr, vth, r, i_mean)"
   ]
  },
  {
   "cell_type": "markdown",
   "id": "91bfcb5b",
   "metadata": {},
   "source": [
    "After executing the cell above, you should see all defined parameters printed. You might have noted that we use variable names that correspond to the names in the math notation. We also use comments behing the variables, to indicate what unit we used for those numbers."
   ]
  },
  {
   "cell_type": "markdown",
   "id": "24d92719",
   "metadata": {},
   "source": []
  },
  {
   "cell_type": "code",
   "execution_count": 8,
   "id": "29ed8c20",
   "metadata": {
    "lines_to_next_cell": 0
   },
   "outputs": [],
   "source": [
    "import numpy as np\n",
    "import matplotlib.pyplot as plt\n",
    "\n",
    "# Settings for the figures\n",
    "plt.style.use(plt.style.available[20])\n",
    "plt.style.use(\"https://github.com/comp-neural-circuits/intro-to-comp-neuro/raw/dev/plots_style.txt\")"
   ]
  },
  {
   "cell_type": "code",
   "execution_count": 9,
   "id": "31860530",
   "metadata": {},
   "outputs": [
    {
     "data": {
      "text/plain": [
       "[Text(0.5, 0, 'X Label'), Text(0, 0.5, 'Y Label'), Text(0.5, 1.0, 'Title')]"
      ]
     },
     "execution_count": 9,
     "metadata": {},
     "output_type": "execute_result"
    },
    {
     "data": {
      "image/png": "[encoded data removed]",
      "text/plain": [
       "<Figure size 576x432 with 1 Axes>"
      ]
     },
     "metadata": {
      "needs_background": "light"
     },
     "output_type": "display_data"
    }
   ],
   "source": [
    "fig, ax = plt.subplots()\n",
    "ax.plot([0,1],[0.2,0.8])\n",
    "ax.plot([0,1],[-0.2,-0.8])\n",
    "ax.set(\n",
    "    xlabel='X Label',\n",
    "    ylabel='Y Label',\n",
    "    title='Title')"
   ]
  },
  {
   "cell_type": "code",
   "execution_count": null,
   "id": "8d4c6a6c",
   "metadata": {},
   "outputs": [],
   "source": []
  }
 ],
 "metadata": {
  "jupytext": {
   "formats": "ipynb,py"
  },
  "kernelspec": {
   "display_name": "intro-to-comp-neuro",
   "language": "python",
   "name": "intro-to-comp-neuro"
  },
  "language_info": {
   "codemirror_mode": {
    "name": "ipython",
    "version": 3
   },
   "file_extension": ".py",
   "mimetype": "text/x-python",
   "name": "python",
   "nbconvert_exporter": "python",
   "pygments_lexer": "ipython3",
   "version": "3.9.0"
  }
 },
 "nbformat": 4,
 "nbformat_minor": 5
}
