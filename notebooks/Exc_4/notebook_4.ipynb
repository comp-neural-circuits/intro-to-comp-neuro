{
 "cells": [
  {
   "cell_type": "markdown",
   "id": "950e6625",
   "metadata": {},
   "source": [
    "# Neural encoding 1"
   ]
  },
  {
   "cell_type": "code",
   "execution_count": null,
   "id": "8e43f44e",
   "metadata": {},
   "outputs": [],
   "source": [
    "TODO - include figure here -> spikes - neuron - LIF - spikes"
   ]
  },
  {
   "cell_type": "code",
   "execution_count": 1,
   "id": "1db50cc2",
   "metadata": {},
   "outputs": [],
   "source": [
    "import io\n",
    "import requests\n",
    "import numpy as np\n",
    "import matplotlib.pyplot as plt\n",
    "\n",
    "# Settings for the figures\n",
    "plt.style.use(plt.style.available[20])\n",
    "plt.style.use(\"https://github.com/comp-neural-circuits/intro-to-comp-neuro/raw/dev/plots_style.txt\")"
   ]
  },
  {
   "cell_type": "markdown",
   "id": "8c609e44",
   "metadata": {},
   "source": [
    "#### Data Retrieval - Exploring the Steinmetz dataset\n",
    "In this tutorial we will explore the structure of a neuroscience dataset.\n",
    "\n",
    "We consider a subset of data from a study of [Steinmetz et al. (2019)](https://www.nature.com/articles/s41586-019-1787-x). In this study, Neuropixels probes were implanted in the brains of mice. Electrical potentials were measured by hundreds of electrodes along the length of each probe. Each electrode’s measurements captured local variations in the electric field due to nearby spiking neurons. A spike sorting algorithm was used to infer spike times and cluster spikes according to common origin: a single cluster of sorted spikes is causally attributed to a single neuron.\n",
    "\n",
    "In particular, a single recording session of spike times and neuron assignments was loaded and assigned to spike_times in the preceding setup.\n",
    "\n",
    "Typically a dataset comes with some information about its structure. However, this information may be incomplete. You might also apply some transformations or “pre-processing” to create a working representation of the data of interest, which might go partly undocumented depending on the circumstances. In any case it is important to be able to use the available tools to investigate unfamiliar aspects of a data structure.\n",
    "\n",
    "Let’s see what our data looks like…"
   ]
  },
  {
   "cell_type": "code",
   "execution_count": 3,
   "id": "b8989412",
   "metadata": {},
   "outputs": [],
   "source": [
    "r = requests.get('https://osf.io/sy5xt/download')\n",
    "if r.status_code != 200:\n",
    "  print('Failed to download data')\n",
    "else:\n",
    "  spike_times = np.load(io.BytesIO(r.content), allow_pickle=True)['spike_times']"
   ]
  },
  {
   "cell_type": "code",
   "execution_count": 4,
   "id": "3151c1a3",
   "metadata": {},
   "outputs": [
    {
     "data": {
      "text/plain": [
       "numpy.ndarray"
      ]
     },
     "execution_count": 4,
     "metadata": {},
     "output_type": "execute_result"
    }
   ],
   "source": [
    "type(spike_times)"
   ]
  },
  {
   "cell_type": "code",
   "execution_count": null,
   "id": "54dd7c87",
   "metadata": {},
   "outputs": [],
   "source": []
  },
  {
   "cell_type": "code",
   "execution_count": null,
   "id": "431a2016",
   "metadata": {},
   "outputs": [],
   "source": []
  }
 ],
 "metadata": {
  "jupytext": {
   "formats": "ipynb,py:light"
  },
  "kernelspec": {
   "display_name": "intro-to-comp-neuro",
   "language": "python",
   "name": "intro-to-comp-neuro"
  },
  "language_info": {
   "codemirror_mode": {
    "name": "ipython",
    "version": 3
   },
   "file_extension": ".py",
   "mimetype": "text/x-python",
   "name": "python",
   "nbconvert_exporter": "python",
   "pygments_lexer": "ipython3",
   "version": "3.9.0"
  }
 },
 "nbformat": 4,
 "nbformat_minor": 5
}
