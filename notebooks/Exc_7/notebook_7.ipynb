{
 "cells": [
  {
   "cell_type": "markdown",
   "id": "607c9189",
   "metadata": {},
   "source": [
    "# Synaptic Plasticity in rate networks"
   ]
  },
  {
   "cell_type": "code",
   "execution_count": 1,
   "id": "1216583b",
   "metadata": {},
   "outputs": [],
   "source": [
    "import io\n",
    "import requests\n",
    "import numpy as np\n",
    "import matplotlib.pyplot as plt\n",
    "from mpl_toolkits.axes_grid1 import make_axes_locatable\n",
    "import ipywidgets as widgets\n",
    "import scipy\n",
    "\n",
    "%matplotlib inline\n",
    "\n",
    "# Settings for the figures\n",
    "plt.style.use(plt.style.available[20])\n",
    "plt.style.use(\"https://github.com/comp-neural-circuits/intro-to-comp-neuro/raw/dev/plots_style.txt\")\n"
   ]
  },
  {
   "cell_type": "markdown",
   "id": "4e42df3a",
   "metadata": {},
   "source": [
    "\\begin{equation}\n",
    "F(x;\\alpha,\\theta) = \\left(1+\\text{e}^{-\\frac{x-\\theta}{\\alpha}}\\right)^{-1} - \\left(1+\\text{e}^{\\frac{\\theta}{\\alpha}}\\right)^{-1}\n",
    "\\end{equation}"
   ]
  },
  {
   "cell_type": "code",
   "execution_count": 76,
   "id": "fef5d2b3",
   "metadata": {
    "lines_to_next_cell": 0
   },
   "outputs": [
    {
     "data": {
      "application/vnd.jupyter.widget-view+json": {
       "model_id": "aae5405a6d09449698df754da59ddfd2",
       "version_major": 2,
       "version_minor": 0
      },
      "text/plain": [
       "interactive(children=(FloatSlider(value=0.2, description='alpha', max=1.0, min=0.01, step=0.01), IntSlider(val…"
      ]
     },
     "metadata": {},
     "output_type": "display_data"
    }
   ],
   "source": [
    "def nonlinearity_f(x, alpha, theta):    \n",
    "    return (1 + np.exp(-alpha*(x - theta)))**-1 - (1 + np.exp(alpha*theta))**-1\n",
    "\n",
    "# fig, ax = plt.subplots(figsize = (4,4))\n",
    "# X = np.linspace(0,20,1000)\n",
    "# ax.plot(X, nonlinearity_f(X, alpha=2, theta=5))\n",
    "# ax.set(\n",
    "#     title = 'F/I curve',\n",
    "#     xlabel = 'Input current',\n",
    "#     ylabel = 'Output rate',\n",
    "# );\n",
    "\n",
    "\n",
    "def interactive_f(alpha=0.2, theta=40):\n",
    "    \n",
    "    x_max = 80\n",
    "    fig, ax = plt.subplots(figsize = (7,4))\n",
    "    X = np.linspace(-0.1,x_max,100)\n",
    "    ax.plot(X, nonlinearity_f(X, alpha=alpha, theta=theta), color='#6baed6', linewidth = 3)\n",
    "    \n",
    "    y_theta = nonlinearity_f(theta, alpha=alpha, theta=theta)\n",
    "    \n",
    "    ax.plot([theta,theta],[0,y_theta],\n",
    "           linestyle = '--', c = '#e34a33', linewidth=1, label = r'threshold $\\theta$')\n",
    "    \n",
    "    # we want to visualize the gain of the \n",
    "    \n",
    "    diff = 8\n",
    "    \n",
    "    ax.plot([theta-diff,theta+diff],[y_theta-diff*alpha/4, y_theta+diff*alpha/4],\n",
    "           linestyle = '--', c = 'k', linewidth=1, label = r'linear function with gain $\\alpha/4$')\n",
    "    \n",
    "    ax.set(\n",
    "        title = 'F/I curve',\n",
    "        xlabel = 'Input current',\n",
    "        ylabel = 'Output rate',\n",
    "        ylim = [-0.05,1.05],\n",
    "        xlim = [-0.05*x_max,x_max*1.05]\n",
    "    );\n",
    "    ax.legend()\n",
    "    \n",
    "widgets.interactive(interactive_f, alpha = (0.01,1,0.01), theta=(0,60,10))"
   ]
  },
  {
   "cell_type": "code",
   "execution_count": null,
   "id": "d63ca7fc",
   "metadata": {
    "lines_to_next_cell": 2
   },
   "outputs": [],
   "source": []
  }
 ],
 "metadata": {
  "jupytext": {
   "formats": "ipynb,py:light"
  },
  "kernelspec": {
   "display_name": "intro-to-comp-neuro",
   "language": "python",
   "name": "intro-to-comp-neuro"
  },
  "language_info": {
   "codemirror_mode": {
    "name": "ipython",
    "version": 3
   },
   "file_extension": ".py",
   "mimetype": "text/x-python",
   "name": "python",
   "nbconvert_exporter": "python",
   "pygments_lexer": "ipython3",
   "version": "3.9.0"
  }
 },
 "nbformat": 4,
 "nbformat_minor": 5
}
