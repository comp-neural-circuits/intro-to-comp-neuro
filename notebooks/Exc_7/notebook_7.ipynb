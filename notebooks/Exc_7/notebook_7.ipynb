{
 "cells": [
  {
   "cell_type": "markdown",
   "id": "607c9189",
   "metadata": {},
   "source": [
    "# Synaptic Plasticity in rate networks"
   ]
  },
  {
   "cell_type": "code",
   "execution_count": null,
   "id": "ffbaa47e",
   "metadata": {},
   "outputs": [],
   "source": []
  }
 ],
 "metadata": {
  "jupytext": {
   "formats": "ipynb,py:light"
  },
  "kernelspec": {
   "display_name": "intro-to-comp-neuro",
   "language": "python",
   "name": "intro-to-comp-neuro"
  },
  "language_info": {
   "codemirror_mode": {
    "name": "ipython",
    "version": 3
   },
   "file_extension": ".py",
   "mimetype": "text/x-python",
   "name": "python",
   "nbconvert_exporter": "python",
   "pygments_lexer": "ipython3",
   "version": "3.9.0"
  }
 },
 "nbformat": 4,
 "nbformat_minor": 5
}
