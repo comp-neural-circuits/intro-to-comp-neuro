{
 "cells": [
  {
   "cell_type": "markdown",
   "id": "dfd51323",
   "metadata": {},
   "source": [
    "# From Data to a model"
   ]
  },
  {
   "cell_type": "code",
   "execution_count": 3,
   "id": "8e41d09c",
   "metadata": {},
   "outputs": [],
   "source": [
    "import numpy as np\n",
    "import matplotlib.pyplot as plt\n",
    "\n",
    "# Settings for the figures\n",
    "plt.style.use(plt.style.available[20])\n",
    "plt.style.use(\"https://github.com/comp-neural-circuits/intro-to-comp-neuro/raw/dev/plots_style.txt\")"
   ]
  },
  {
   "cell_type": "markdown",
   "id": "9d7dc207",
   "metadata": {},
   "source": [
    "# The Leaky Integrate and fire model\n",
    "\n",
    "Now we use the learned python concepts to implement the leaky-integrate and fire neuron model:\n",
    "\n",
    "As a reminder, here is the differential equation that describes the membrane potential of our neuron:\n",
    "\n",
    "\\begin{align}\n",
    "\\tau_m\\,\\frac{d}{dt}\\,V(t) &= E_{L} - V(t) + R\\,I(t) &\\text{if }\\quad V(t) \\leq V_{th} \\\\ \n",
    "\\\\\n",
    "V(t) &= V_{reset} &\\text{otherwise}\n",
    "\\end{align}\n",
    "\n",
    "where $V(t)$ is the membrane potential, $\\tau_m$ is the membrane time constant, $E_{L}$ is the leak potential, $R$ is the membrane resistance, $I(t)$ is the synaptic input current, $V_{th}$ is the firing threshold, and $V_{reset}$ is the reset voltage. We can also write $V_m$ for membrane potential, which is more convenient for plot labels.\n",
    "\n",
    "The membrane equation describes the time evolution of membrane potential $V(t)$ in response to synaptic input and leaking of charge across the cell membrane. This is an *ordinary differential equation (ODE)*.\n",
    "\n",
    "\n"
   ]
  },
  {
   "cell_type": "markdown",
   "id": "a0853263",
   "metadata": {},
   "source": [
    "### Defining Parameters \n",
    "\n",
    "We first define the parameters we need in order to simulate our neuron model. In order to define and print the parameters below, you need to 'comment out' the code first before you run the cell"
   ]
  },
  {
   "cell_type": "code",
   "execution_count": null,
   "id": "9475a105",
   "metadata": {},
   "outputs": [],
   "source": [
    "# t_max = 150e-3   # second\n",
    "# tau_m = 20e-3      # second\n",
    "# el = -60e-3      # milivolt\n",
    "# vr = -70e-3      # milivolt\n",
    "# vth = -50e-3     # milivolt\n",
    "# r = 100e6        # ohm\n",
    "# i_mean = 25e-11  # ampere\n",
    "\n",
    "# print(t_max, tau_m, el, vr, vth, r, i_mean)"
   ]
  },
  {
   "cell_type": "markdown",
   "id": "8252fcfe",
   "metadata": {},
   "source": [
    "After executing the cell above, you should see all defined parameters printed. You might have noted that we use variable names that correspond to the names in the math notation. We also use comments behing the variables, to indicate what unit we used for those numbers.\n",
    "\n",
    "As a reminder\n",
    "```python\n",
    "25e-11\n",
    "```\n",
    "is the same as 25*10^(-11)"
   ]
  },
  {
   "cell_type": "markdown",
   "id": "dca2dc3c",
   "metadata": {},
   "source": [
    "### Implementation\n",
    "\n",
    "In the next exercises, we will simulate the evolution of the membrane equation in discrete time steps, with a sufficiently small $\\Delta t$.\n",
    "\n",
    "We start by writing the time derivative $d/dt\\,V(t)$ in the membrane equation without taking the limit $\\Delta t \\to 0$:\n",
    "\n",
    "\\begin{equation}\n",
    "\\tau_m\\,\\frac{V\\left(t+\\Delta t\\right)-V\\left(t\\right)}{\\Delta t} = E_{L} - V(t) + R\\,I(t) \\qquad \\qquad (1)\n",
    "\\end{equation}\n",
    "\n",
    "The value of membrane potential $V\\left(t+\\Delta t\\right)$ can be expressed in terms of its previous value $V(t)$ by simple algebraic manipulation. For *small enough* values of $\\Delta t$, this provides a good approximation of the continuous-time integration.\n",
    "\n",
    "This operation is an integration since we obtain a sequence $\\{V(t), V(t+\\Delta t), V(t+2\\Delta t),...\\}$ starting from the ODE. Notice how the ODE describes the evolution of $\\frac{d}{dt}\\,V(t)$, the derivative of $V(t)$, but not directly the evolution of $V(t)$. For the evolution of $V(t)$ we need to integrate the ODE, and in this tutorial, we will do a discrete-time integration using the Euler method. See [Numerical methods for ordinary differential equations](https://en.wikipedia.org/wiki/Numerical_methods_for_ordinary_differential_equations) for additional details.\n",
    "\n",
    "We need to reorganize the Eq. (1) to isolate $V\\left(t+\\Delta t\\right)$ on the left side, and express it as function of $V(t)$ and the other terms:\n",
    "\n",
    "\\begin{equation}\n",
    "V(t + \\Delta t) =  V(t) + \\frac{\\Delta t}{\\tau_m}(E_l -V(t) + R I(t)) \\qquad \\qquad (2)\n",
    "\\end{equation}"
   ]
  },
  {
   "cell_type": "markdown",
   "id": "f7f41d47",
   "metadata": {},
   "source": [
    "#### Excercise"
   ]
  },
  {
   "cell_type": "code",
   "execution_count": null,
   "id": "0533edaa",
   "metadata": {},
   "outputs": [],
   "source": [
    "'''\n",
    "We now want to define the function shown in 2.\n",
    "We need it to take the parameters v_t, dt and It \n",
    "The other paramters will not change.\n",
    "We defined them already above - now we can re-use them.\n",
    "\n",
    "Finish the implementation below, when you are done, execute the cell, the output should be:\n",
    "\n",
    "9.4976\n",
    "\n",
    "'''\n",
    "\n",
    "def v_dt (v_t, i_t, dt):\n",
    "    v_dt = v_t + dt/tau_m *(el-v_t + r*i_t)\n",
    "    return v_dt\n",
    "\n",
    "\n",
    "print (v_dt(v_t = 10, i_t = 12e-11, dt = 1e-3))"
   ]
  },
  {
   "cell_type": "raw",
   "id": "8d393ab6",
   "metadata": {
    "lines_to_next_cell": 0
   },
   "source": []
  },
  {
   "cell_type": "code",
   "execution_count": null,
   "id": "34b211c5",
   "metadata": {},
   "outputs": [],
   "source": [
    "fig, ax = plt.subplots()\n",
    "ax.plot([0,1],[0.2,0.8])\n",
    "ax.plot([0,1],[-0.2,-0.8])\n",
    "ax.set(\n",
    "    xlabel='X Label',\n",
    "    ylabel='Y Label',\n",
    "    title='Title')"
   ]
  },
  {
   "cell_type": "code",
   "execution_count": null,
   "id": "1f55e6e9",
   "metadata": {},
   "outputs": [],
   "source": []
  }
 ],
 "metadata": {
  "jupytext": {
   "formats": "ipynb,py:light"
  },
  "kernelspec": {
   "display_name": "intro-to-comp-neuro",
   "language": "python",
   "name": "intro-to-comp-neuro"
  },
  "language_info": {
   "codemirror_mode": {
    "name": "ipython",
    "version": 3
   },
   "file_extension": ".py",
   "mimetype": "text/x-python",
   "name": "python",
   "nbconvert_exporter": "python",
   "pygments_lexer": "ipython3",
   "version": "3.9.0"
  }
 },
 "nbformat": 4,
 "nbformat_minor": 5
}
