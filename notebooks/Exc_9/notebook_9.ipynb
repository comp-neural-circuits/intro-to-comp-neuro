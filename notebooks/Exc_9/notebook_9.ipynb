{
 "cells": [
  {
   "cell_type": "markdown",
   "id": "c85c893e",
   "metadata": {},
   "source": [
    "# Artificial networks"
   ]
  },
  {
   "cell_type": "code",
   "execution_count": 14,
   "id": "1db50cc2",
   "metadata": {},
   "outputs": [],
   "source": [
    "import io\n",
    "import requests\n",
    "import numpy as np\n",
    "import matplotlib.pyplot as plt\n",
    "from mpl_toolkits.axes_grid1 import make_axes_locatable\n",
    "from matplotlib.patches import ConnectionPatch\n",
    "from matplotlib import animation\n",
    "import ipywidgets as widgets\n",
    "from scipy import optimize as opt\n",
    "from urllib.request import urlopen\n",
    "from PIL import Image\n",
    "from io import BytesIO\n",
    "\n",
    "%matplotlib inline\n",
    "\n",
    "# Settings for the figures\n",
    "plt.style.use(plt.style.available[20])\n",
    "plt.style.use(\"https://github.com/comp-neural-circuits/intro-to-comp-neuro/raw/dev/plots_style.txt\")\n",
    "\n",
    "# from pylab import *\n",
    "from sklearn.datasets import fetch_openml"
   ]
  },
  {
   "cell_type": "markdown",
   "id": "15fc185a",
   "metadata": {},
   "source": [
    "# Perceptron"
   ]
  },
  {
   "cell_type": "markdown",
   "id": "7d602eb3",
   "metadata": {},
   "source": [
    "<div>\n",
    "<img src=\"https://github.com/comp-neural-circuits/intro-to-comp-neuro/raw/dev/notebooks/Exc_9/static/perceptron.png\" width=\"400\"/>\n",
    "</div>\n",
    "\n",
    "The perceptron is known as the first artificial neuron. It calculates its output with the following equation\n",
    "\n",
    "\\begin{equation*}\n",
    "y=\\begin{cases}\n",
    "    1,  & \\text{if } \\mathbf{w}\\cdot\\mathbf{x} \\geq 0 \\\\\n",
    "    0,  & \\text{otherwise}\n",
    "\\end{cases}\n",
    "\\end{equation*}\n",
    "\n",
    "where $x_0$ is always 1 and therefore $w_0$ can be interpreted as the threshold $\\theta$. Below is the very simple code for the perceptron"
   ]
  },
  {
   "cell_type": "code",
   "execution_count": 3,
   "id": "94bee8de",
   "metadata": {},
   "outputs": [],
   "source": [
    "def perceptron(x, w):  \n",
    "    return np.dot(w, x) >= 0"
   ]
  },
  {
   "cell_type": "markdown",
   "id": "bfb36584",
   "metadata": {},
   "source": [
    "With linearly seperable data points, the perceptron can learn the synaptic weights to classify the data. We want to look at the algorithm"
   ]
  },
  {
   "cell_type": "markdown",
   "id": "4a752a66",
   "metadata": {},
   "source": [
    "### Task 1\n",
    "\n",
    "Can you implement the perceptron algorithm ?\n",
    "\n",
    "\n",
    "<div>\n",
    "<img src=\"https://github.com/comp-neural-circuits/intro-to-comp-neuro/raw/dev/notebooks/Exc_9/static/learning_algorithm_perceptron.png\" width=\"400\"/>\n",
    "</div>\n",
    "\n",
    "Try to implement the algorithm in the code below at the indicated position"
   ]
  },
  {
   "cell_type": "code",
   "execution_count": 52,
   "id": "318ce29f",
   "metadata": {},
   "outputs": [
    {
     "data": {
      "application/vnd.jupyter.widget-view+json": {
       "model_id": "9736a39da4e740a0825e6b7a703840af",
       "version_major": 2,
       "version_minor": 0
      },
      "text/plain": [
       "interactive(children=(IntSlider(value=0, description='nn', max=0), Output()), _dom_classes=('widget-interact',…"
      ]
     },
     "metadata": {},
     "output_type": "display_data"
    }
   ],
   "source": [
    "starting_weights_seed = 18\n",
    "np.random.seed(0) \n",
    "\n",
    "n_samples = 40 # number of samples\n",
    "\n",
    "X = np.random.rand(2,n_samples)*1.1 # create random samples X\n",
    "labels = X[0,:] + X[1,:]  >=1 # create the corresponding labels\n",
    "\n",
    "\n",
    "X = np.vstack((np.ones(n_samples), X)) # include x_0 that is always 1 - the bias\n",
    "\n",
    "\n",
    "np.random.seed(starting_weights_seed)\n",
    "w = np.random.rand(3) # initialize a random connectivity matrix to start with (includes w_0)\n",
    "np.random.seed(10)\n",
    "\n",
    "\n",
    "all_w = w[None,:] # this is an array \n",
    "selected_points = [None] # this is a list\n",
    "\n",
    "''' put the algorithm here '''\n",
    "# be sure to include the following two lines after every step\n",
    "# otherwise the viusalization in the end does not work\n",
    "            \n",
    "\n",
    "\n",
    "\n",
    "def scroll_through_weights(nn):\n",
    "\n",
    "\n",
    "    fig,ax = plt.subplots(figsize = (8,8))\n",
    "    \n",
    "    w = all_w[nn,:]\n",
    "    labels = perceptron(X, w) # get the classification results from the perceptron\n",
    "\n",
    "    data_true = ax.scatter(*X[1:,labels], color = 'b', label = 'classified as True', s=90)\n",
    "    data_false = ax.scatter(*X[1:,labels == False], color = 'r', label = 'classified as False', s=90)\n",
    "    if len (selected_points) > nn+1:\n",
    "        ax.scatter(*selected_points[nn+1][1:], color = (0,0,0,0), edgecolor='k', linewidth=2, s=90 )\n",
    "    \n",
    "    m = - w[1]/w[2]\n",
    "    b = - w[0]/w[2]  \n",
    "    xx = np.linspace(-0.1,1.1,2)\n",
    "    ax.plot(xx, xx*m + b, color='k', linestyle = '--', label = 'decision boundary')\n",
    "    \n",
    "    \n",
    "    \n",
    "    ax.set(\n",
    "        xlabel = r'$x_1$',\n",
    "        ylabel = r'$x_2$')\n",
    "\n",
    "    x_ticks = [0,0.5,1]\n",
    "    y_ticks = [0,0.5,1]\n",
    "    ax.set_xticks(x_ticks)\n",
    "    ax.set_xticklabels(x_ticks,fontsize=20)\n",
    "    ax.set_yticks(y_ticks)\n",
    "    ax.set_yticklabels(y_ticks,fontsize=20)\n",
    "    ax.set_xlabel('$x_1$', fontsize=32, fontweight='bold')\n",
    "    ax.set_ylabel('$x_2$', fontsize=32, fontweight='bold')\n",
    "    ax.set_xlim([-0.1,1.1])\n",
    "    ax.set_ylim([-0.1,1.1])\n",
    "    ax.legend()\n",
    "\n",
    "    \n",
    "widgets.interactive(scroll_through_weights, nn = (0,all_w.shape[0]-1,1))\n",
    "\n",
    "\n"
   ]
  },
  {
   "cell_type": "markdown",
   "id": "774470ba",
   "metadata": {},
   "source": [
    "### [Solution 1](https://raw.githubusercontent.com/comp-neural-circuits/intro-to-comp-neuro/dev/notebooks/Exc_9/solutions/78a5a35c0791e03abff0b965447c82b9.txt)\n"
   ]
  },
  {
   "cell_type": "markdown",
   "id": "80d01ec6",
   "metadata": {},
   "source": [
    "### Task 2\n",
    "\n",
    "In the example above, the data was linearly seperable. What happens if its not?"
   ]
  },
  {
   "cell_type": "markdown",
   "id": "024b9a04",
   "metadata": {},
   "source": [
    "## Hopfield network\n",
    "\n",
    "In contrast to the perceptron and the deep learning algorithms that were developed afterwards, the hopfield network takes a different approach and uses the interaction of single units to create an emergent property, the concept of a memory. \n",
    "\n",
    "<div>\n",
    "<img src=\"https://github.com/comp-neural-circuits/intro-to-comp-neuro/raw/dev/notebooks/Exc_9/static/hopfield.png\" width=\"600\"/>\n",
    "</div>\n",
    "\n",
    "Below you find the class of a Hopfield network. Go through the code and compare it with the lecture. "
   ]
  },
  {
   "cell_type": "code",
   "execution_count": 36,
   "id": "43165de0",
   "metadata": {
    "lines_to_next_cell": 2
   },
   "outputs": [],
   "source": [
    "class HopfieldNetwork(object):\n",
    "    \"\"\"docstring for HopfieldNetwork\n",
    "\n",
    "    patterns: np.array with shape (n_of_patterns, dim_of_patterns)\n",
    "    \"\"\"\n",
    "\n",
    "    def __init__(self, \n",
    "        training_patterns,\n",
    "        training_labels,\n",
    "        store_overlap_with_training_data=False):\n",
    "        super(HopfieldNetwork, self).__init__()\n",
    "\n",
    "        self.training_patterns = training_patterns\n",
    "        self.training_labels = training_labels\n",
    "\n",
    "        self.n_training_patterns = self.training_patterns.shape[0]\n",
    "        self.dim_patterns = self.training_patterns.shape[1]\n",
    "        self.init_network()\n",
    "\n",
    "        self.current_target_pattern = self.training_patterns[0]\n",
    "        self.current_target_label = self.training_labels[0]\n",
    "\n",
    "        self.store_overlap_with_training_data = store_overlap_with_training_data\n",
    "\n",
    "    def init_network(self):\n",
    "        # Initialize weights to zero values\n",
    "        self.W = np.zeros([self.dim_patterns, self.dim_patterns])\n",
    "\n",
    "    def train(self):\n",
    "        # Accumulate outer products\n",
    "        for pattern in self.training_patterns:\n",
    "            self.W += np.outer(pattern, pattern)\n",
    "\n",
    "        # Divide times the number of patterns\n",
    "        self.W /= float(self.n_training_patterns)\n",
    "\n",
    "        # Exclude the autoconnections\n",
    "        self.W *= 1.0 - np.eye(self.dim_patterns)\n",
    "\n",
    "    def run_simuation(\n",
    "        self,\n",
    "        noise=0.2,  # 0 = no noise, 1 = only noise\n",
    "        sim_time=5500,  # timesteps\n",
    "        frames_to_save=100,\n",
    "        target_pattern = np.array([]),\n",
    "        target_label = None,\n",
    "        save_simulation = True,\n",
    "        synchrounous_update = False,\n",
    "        start_inverse = False,\n",
    "    ):\n",
    "        if target_pattern.size != 0:\n",
    "            self.current_target_pattern = target_pattern\n",
    "            self.current_target_label = target_label\n",
    "\n",
    "\n",
    "\n",
    "        sample_interval = sim_time // frames_to_save\n",
    "\n",
    "        self.store_images = np.zeros([self.dim_patterns, frames_to_save])\n",
    "        \n",
    "        x = self.current_target_pattern.copy()\n",
    "        \n",
    "        if start_inverse == True:\n",
    "            x[:] *= -1\n",
    "\n",
    "        # We randomly perturb the initial image by swapping the values\n",
    "        mask = np.sign(np.random.random(self.dim_patterns) - noise)\n",
    "        random_array = np.sign(np.random.random(self.dim_patterns)-0.5)\n",
    "        x[mask == -1] = random_array[mask == -1]\n",
    "        \n",
    "        \n",
    "\n",
    "        # During the iterations we ranomly select a unit to update\n",
    "        x_indices = np.arange(self.dim_patterns)\n",
    "        np.random.shuffle(x_indices)\n",
    "\n",
    "\n",
    "        # the iterations\n",
    "        for tt in range(sim_time):\n",
    "            \n",
    "            # Store current activations\n",
    "            if tt % sample_interval == 0:\n",
    "                # array containing frames_to_save of network activation\n",
    "                self.store_images[:, tt // sample_interval] = x\n",
    "                    \n",
    "\n",
    "            if synchrounous_update:\n",
    "                x = np.sign(np.dot(self.W,x))\n",
    "            else:\n",
    "                # get a random index \n",
    "                current_x = x_indices[tt % self.dim_patterns]\n",
    "                # Activation of a unit\n",
    "                x[current_x] = np.sign(np.dot(self.W[current_x, :], x))\n",
    "\n",
    "\n",
    "            \n",
    "\n",
    "\n",
    "        print ('simulation finished')\n",
    "\n",
    "        if save_simulation:\n",
    "            self.save_simulation()\n",
    "\n",
    "    def init_figure(self):\n",
    "\n",
    "        fig, ax = plt.subplots(1,3, figsize=(15,5))\n",
    "\n",
    "        # Plot 1 - showing the target digit\n",
    "        # Create subplot\n",
    "        ax1 = ax[0]\n",
    "        ax1.set_title(\"Start\")\n",
    "        # Create the imshow and save the handler\n",
    "        self.display_image(ax1, self.store_images[:,0]) \n",
    "        \n",
    "        \n",
    "        # Plot 2 - plot the state of the network\n",
    "\n",
    "        # Create subplot\n",
    "        ax2 = ax[1]\n",
    "        ax2.set_title(\"Recalling\")\n",
    "\n",
    "        # Create the imshow and save the handler\n",
    "        im_activation = self.display_image(ax2, self.store_images[:,0]) \n",
    "        \n",
    "        ax6 = ax[2]\n",
    "        ax6.set_title(\"Target\")\n",
    "        # Create the imshow and save the handler\n",
    "        im_target = self.display_image(ax6, self.current_target_pattern) \n",
    "\n",
    "\n",
    "       \n",
    "        # return plot handlers\n",
    "        return fig, im_target, im_activation\n",
    "\n",
    "        \n",
    "    def to_mat(self, pattern):\n",
    "        img_dim = int(np.sqrt(self.dim_patterns))\n",
    "        return pattern.reshape(img_dim,img_dim)\n",
    "    \n",
    "    def display_image(self, ax, img_array,cmap='binary'):\n",
    "        im = ax.imshow(self.to_mat(img_array), \n",
    "                    interpolation = 'none', \n",
    "                    aspect = 'auto',\n",
    "                    cmap = cmap) \n",
    "        ax.axis('off')\n",
    "        return im\n",
    "    \n",
    "    \n",
    "    def save_simulation(self):\n",
    "        fig, im_target, im_activation = self.init_figure()\n",
    "        \n",
    "        frames = [t for t in range(self.store_images.shape[1])]\n",
    "\n",
    "        def update(t,\n",
    "            im_activation=im_activation, \n",
    "            im_energy=im_energy,\n",
    "            im_errors=im_errors,) :\n",
    "            \n",
    "            \n",
    "            A = np.squeeze(self.store_images[:,t])\n",
    "            im_activation.set_array(self.to_mat(A))\n",
    "\n",
    "        # Create and render the animation\n",
    "        anim = animation.FuncAnimation(fig, func = update,  frames = frames )\n",
    "        # save it to file\n",
    "        anim.save(f\"hopfield_{self.current_target_label}.gif\",\n",
    "                  fps = 10, writer='imagemagick',dpi=50)\n",
    "        \n",
    "    def visualize_results(self, t = 99):\n",
    "        \n",
    "        fig, im_target, im_activation = self.init_figure()\n",
    "        A = np.squeeze(self.store_images[:,t])\n",
    "        im_activation.set_array(self.to_mat(A))\n",
    "       "
   ]
  },
  {
   "cell_type": "markdown",
   "id": "cabe65d3",
   "metadata": {},
   "source": [
    "Here we load 10 different pixelated images, that we can try to store in the Hopfield network"
   ]
  },
  {
   "cell_type": "code",
   "execution_count": 15,
   "id": "d8e87b91",
   "metadata": {},
   "outputs": [
    {
     "data": {
      "image/png": "[encoded data removed]",
      "text/plain": [
       "<Figure size 1900x800 with 10 Axes>"
      ]
     },
     "metadata": {},
     "output_type": "display_data"
    }
   ],
   "source": [
    "def load_binary_images_and_labels(\n",
    "    labels = ['homer', 'tintin', 'pikachu', 'hello_kitty','super_mario', 'lab_logo',\n",
    "              'lucky_luke','obelix','scrooge_duck','winnie_pooh'],\n",
    "    show_images = False):\n",
    "    \n",
    "    images = np.array([])\n",
    "    \n",
    "    \n",
    "    \n",
    "    for name in labels:\n",
    "    \n",
    "        url = f'https://github.com/comp-neural-circuits/intro-to-comp-neuro/raw/dev/notebooks/Exc_9/static/pixel_images_{name}.png'\n",
    "        response = requests.get(url)\n",
    "        img = np.array(Image.open(BytesIO(response.content)))[:,:,0] # just use one channel\n",
    "\n",
    "        binary_image = -1 * np.ones_like(img)\n",
    "        binary_image[img < 100] = 1\n",
    "   \n",
    "        if images.size == 0:\n",
    "            images = binary_image.flatten()[None,:]\n",
    "        else:\n",
    "            images = np.vstack((images, binary_image.flatten()[None,:]))\n",
    "\n",
    "            \n",
    "            \n",
    "    if show_images:\n",
    "        \n",
    "        fig, axes = plt.subplots(2,5, figsize = (19,8))\n",
    "        \n",
    "        for img, ll, ax in zip(images, labels, axes.flatten()):\n",
    "            ax.imshow(img.reshape(64,64),cmap='binary',interpolation = 'none', \n",
    "                    aspect = 'auto')\n",
    "            ax.set_title(ll)\n",
    "            ax.axis('off')\n",
    "\n",
    "    return images, labels\n",
    "\n",
    "\n",
    "load_binary_images_and_labels(show_images=True);"
   ]
  },
  {
   "cell_type": "markdown",
   "id": "84e0f335",
   "metadata": {},
   "source": [
    "### Task 3 - investigate the network\n",
    "\n",
    "Below you can play around with the network, take different images to train the network and see how the network retrieves them.\n",
    "You can see all the available images in the list \"labels\" of the function _load_binary_images_and_labels_ above.\n",
    "\n",
    "Try and recreate the sucess but also the problems from Hopfield networks discussed in the lecture.\n",
    "\n",
    "In addition, if a memory is imprinted into the network, the inverse is always imprinted as well. You can test it by setting the changing the starting condition \"start_inverse=False\" "
   ]
  },
  {
   "cell_type": "code",
   "execution_count": 40,
   "id": "9001daf0",
   "metadata": {},
   "outputs": [],
   "source": [
    "images, labels = load_binary_images_and_labels(['pikachu', 'hello_kitty', 'scrooge_duck'])\n",
    "\n",
    "test_network = HopfieldNetwork(\n",
    "    training_patterns = images,\n",
    "    training_labels = labels)\n",
    "test_network.train()"
   ]
  },
  {
   "cell_type": "code",
   "execution_count": 47,
   "id": "a28f2563",
   "metadata": {},
   "outputs": [
    {
     "name": "stdout",
     "output_type": "stream",
     "text": [
      "simulation finished\n"
     ]
    },
    {
     "data": {
      "application/vnd.jupyter.widget-view+json": {
       "model_id": "bb2745e90e25497fb1386601f9418018",
       "version_major": 2,
       "version_minor": 0
      },
      "text/plain": [
       "interactive(children=(IntSlider(value=99, description='t', max=99), Output()), _dom_classes=('widget-interact'…"
      ]
     },
     "metadata": {},
     "output_type": "display_data"
    }
   ],
   "source": [
    "frames = 100\n",
    "\n",
    "test_network.run_simuation(\n",
    "    noise=.5,\n",
    "    target_pattern= images[2],\n",
    "    target_label=labels[2],\n",
    "    synchrounous_update = False,\n",
    "    sim_time=5500,\n",
    "    frames_to_save = frames,    \n",
    "    save_simulation = False,\n",
    "    start_inverse = False)\n",
    "\n",
    "\n",
    "widgets.interactive(test_network.visualize_results, t=(0,frames-1, 1))"
   ]
  },
  {
   "cell_type": "markdown",
   "id": "e9204074",
   "metadata": {},
   "source": [
    "### Task 4\n",
    "\n",
    "Can you store and recall all 10 patterns in the network?\n",
    "Take some time to think about the task and actually try something out before you check the solution.\n",
    "If it does not work on the first try, try something else, get creative.\n",
    "\n",
    "Also, if you think your solution should solve the problem but it does not, make sure to save your approach."
   ]
  },
  {
   "cell_type": "code",
   "execution_count": 23,
   "id": "918d6b91",
   "metadata": {
    "lines_to_next_cell": 2
   },
   "outputs": [],
   "source": [
    "images_many, labels_many = load_binary_images_and_labels(\n",
    "                ['homer', 'tintin', 'pikachu', 'hello_kitty','super_mario', 'lab_logo',\n",
    "              'lucky_luke','obelix','scrooge_duck','winnie_pooh']\n",
    "                )\n",
    "\n",
    "''' put your code here '''\n",
    "\n",
    "test_network = HopfieldNetwork(\n",
    "    training_patterns = images_many,\n",
    "    training_labels = labels_many)\n",
    "test_network.train()"
   ]
  },
  {
   "cell_type": "markdown",
   "id": "07a8e195",
   "metadata": {},
   "source": [
    "### [Possible Solution 4](https://raw.githubusercontent.com/comp-neural-circuits/intro-to-comp-neuro/dev/notebooks/Exc_9/solutions/07e5a35c07ab403abff0b965447c82c4.txt)\n",
    "\n"
   ]
  },
  {
   "cell_type": "markdown",
   "id": "2dde06cb",
   "metadata": {},
   "source": [
    "You can then test whether your solution works by executing the cell below "
   ]
  },
  {
   "cell_type": "code",
   "execution_count": 24,
   "id": "b0f25e54",
   "metadata": {
    "lines_to_next_cell": 0
   },
   "outputs": [
    {
     "name": "stdout",
     "output_type": "stream",
     "text": [
      "simulation finished\n",
      "we search for: winnie_pooh\n"
     ]
    },
    {
     "data": {
      "application/vnd.jupyter.widget-view+json": {
       "model_id": "0118897dc6cf4d4b86ba61f1326a4d80",
       "version_major": 2,
       "version_minor": 0
      },
      "text/plain": [
       "interactive(children=(IntSlider(value=99, description='t', max=99), Output()), _dom_classes=('widget-interact'…"
      ]
     },
     "metadata": {},
     "output_type": "display_data"
    }
   ],
   "source": [
    "frames = 100\n",
    "target_index = 9\n",
    "\n",
    "test_network.run_simuation(\n",
    "    noise=0.4,\n",
    "    target_pattern= images_many[target_index],\n",
    "    target_label=labels_many[target_index],\n",
    "    synchrounous_update = False,\n",
    "    sim_time=5500,\n",
    "    frames_to_save = frames,    \n",
    "    save_simulation = False)\n",
    "\n",
    "print (f'we search for: {labels_many[target_index]}')\n",
    "final_network = test_network.store_images[:,-1].astype(int)\n",
    "for label in labels_many:\n",
    "    \n",
    "    possible_target = map_target_name_to_pattern(label, N=len(labels_many)).astype(int)\n",
    "    if np.all(final_network == possible_target):\n",
    "        print ('we find: ', label)\n",
    "    \n",
    "\n",
    "widgets.interactive(test_network.visualize_results, t=(0,frames-1, 1))"
   ]
  },
  {
   "cell_type": "code",
   "execution_count": null,
   "id": "7ab282a1",
   "metadata": {
    "lines_to_next_cell": 2
   },
   "outputs": [],
   "source": []
  }
 ],
 "metadata": {
  "jupytext": {
   "formats": "ipynb,py:light"
  },
  "kernelspec": {
   "display_name": "intro-to-comp-neuro",
   "language": "python",
   "name": "intro-to-comp-neuro"
  },
  "language_info": {
   "codemirror_mode": {
    "name": "ipython",
    "version": 3
   },
   "file_extension": ".py",
   "mimetype": "text/x-python",
   "name": "python",
   "nbconvert_exporter": "python",
   "pygments_lexer": "ipython3",
   "version": "3.9.0"
  }
 },
 "nbformat": 4,
 "nbformat_minor": 5
}
