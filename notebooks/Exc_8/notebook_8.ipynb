{
 "cells": [
  {
   "cell_type": "markdown",
   "id": "65516ba0",
   "metadata": {},
   "source": [
    "# Rate Networks"
   ]
  },
  {
   "cell_type": "code",
   "execution_count": 2,
   "id": "66c94846",
   "metadata": {},
   "outputs": [],
   "source": [
    "import io\n",
    "import requests\n",
    "import numpy as np\n",
    "import matplotlib.pyplot as plt\n",
    "from mpl_toolkits.axes_grid1 import make_axes_locatable\n",
    "import ipywidgets as widgets\n",
    "import scipy\n",
    "\n",
    "%matplotlib inline\n",
    "\n",
    "# Settings for the figures\n",
    "plt.style.use(plt.style.available[20])\n",
    "plt.style.use(\"https://github.com/comp-neural-circuits/intro-to-comp-neuro/raw/dev/plots_style.txt\")\n"
   ]
  },
  {
   "cell_type": "markdown",
   "id": "b42ec7c1",
   "metadata": {},
   "source": [
    "\\begin{align}\n",
    "\\tau_E \\frac{dr_E}{dt} &= -r_E + F(w_{EE}r_E -w_{EI}r_I + I^{\\text{ext}}_E;\\alpha_E,\\theta_E) \\\\\n",
    "\\tau_I \\frac{dr_I}{dt} &= -r_I + F(w_{IE}r_E -w_{II}r_I + I^{\\text{ext}}_I;\\alpha_I,\\theta_I) \\qquad (1)\n",
    "\\end{align}\n",
    "\n",
    "\n"
   ]
  },
  {
   "cell_type": "code",
   "execution_count": 3,
   "id": "318ce29f",
   "metadata": {},
   "outputs": [
    {
     "ename": "NameError",
     "evalue": "name 'F_basal' is not defined",
     "output_type": "error",
     "traceback": [
      "\u001b[1;31m---------------------------------------------------------------------------\u001b[0m",
      "\u001b[1;31mNameError\u001b[0m                                 Traceback (most recent call last)",
      "Input \u001b[1;32mIn [3]\u001b[0m, in \u001b[0;36m<cell line: 7>\u001b[1;34m()\u001b[0m\n\u001b[0;32m      5\u001b[0m fig, ax \u001b[38;5;241m=\u001b[39m plt\u001b[38;5;241m.\u001b[39msubplots(figsize \u001b[38;5;241m=\u001b[39m (\u001b[38;5;241m4\u001b[39m,\u001b[38;5;241m4\u001b[39m))\n\u001b[0;32m      6\u001b[0m X \u001b[38;5;241m=\u001b[39m np\u001b[38;5;241m.\u001b[39mlinspace(\u001b[38;5;241m0\u001b[39m,\u001b[38;5;241m15\u001b[39m,\u001b[38;5;241m1000\u001b[39m)\n\u001b[1;32m----> 7\u001b[0m ax\u001b[38;5;241m.\u001b[39mplot(X, \u001b[43mF_basal\u001b[49m(X, alpha\u001b[38;5;241m=\u001b[39m\u001b[38;5;241m2\u001b[39m, theta\u001b[38;5;241m=\u001b[39m\u001b[38;5;241m8\u001b[39m))\n\u001b[0;32m      8\u001b[0m ax\u001b[38;5;241m.\u001b[39mset(\n\u001b[0;32m      9\u001b[0m     title \u001b[38;5;241m=\u001b[39m \u001b[38;5;124m'\u001b[39m\u001b[38;5;124mF/I curve of the pyramidal cell\u001b[39m\u001b[38;5;124m'\u001b[39m,\n\u001b[0;32m     10\u001b[0m     xlabel \u001b[38;5;241m=\u001b[39m \u001b[38;5;124m'\u001b[39m\u001b[38;5;124mInput to basal dendrite\u001b[39m\u001b[38;5;124m'\u001b[39m,\n\u001b[0;32m     11\u001b[0m     ylabel \u001b[38;5;241m=\u001b[39m \u001b[38;5;124m'\u001b[39m\u001b[38;5;124mRate output soma\u001b[39m\u001b[38;5;124m'\u001b[39m,\n\u001b[0;32m     12\u001b[0m )\n",
      "\u001b[1;31mNameError\u001b[0m: name 'F_basal' is not defined"
     ]
    },
    {
     "data": {
      "image/png": "[encoded data removed]",
      "text/plain": [
       "<Figure size 400x400 with 1 Axes>"
      ]
     },
     "metadata": {},
     "output_type": "display_data"
    }
   ],
   "source": [
    "    "
   ]
  },
  {
   "cell_type": "code",
   "execution_count": null,
   "id": "510fec75",
   "metadata": {},
   "outputs": [],
   "source": []
  }
 ],
 "metadata": {
  "jupytext": {
   "formats": "ipynb,py:light"
  },
  "kernelspec": {
   "display_name": "intro-to-comp-neuro",
   "language": "python",
   "name": "intro-to-comp-neuro"
  },
  "language_info": {
   "codemirror_mode": {
    "name": "ipython",
    "version": 3
   },
   "file_extension": ".py",
   "mimetype": "text/x-python",
   "name": "python",
   "nbconvert_exporter": "python",
   "pygments_lexer": "ipython3",
   "version": "3.9.0"
  }
 },
 "nbformat": 4,
 "nbformat_minor": 5
}
